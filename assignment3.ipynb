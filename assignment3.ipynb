{
 "cells": [
  {
   "cell_type": "markdown",
   "id": "45cd4a2c",
   "metadata": {},
   "source": [
    "# Spam Filtering Challenge - Practical Data Science in Python\n",
    "\n",
    "This jupyter notebook is part of a deliverable for the Practical Data Science in Python course. The assignment required that I chose a model that could best filter spam text messages."
   ]
  },
  {
   "cell_type": "code",
   "execution_count": 1,
   "id": "53ffd12a",
   "metadata": {},
   "outputs": [
    {
     "name": "stdout",
     "output_type": "stream",
     "text": [
      "                                                 sms   spam  profan  \\\n",
      "0  1. Tension face 2. Smiling face 3. Waste face ...  False    True   \n",
      "1  Hhahhaahahah rofl was leonardo in your room or...  False    True   \n",
      "4                        Oh for  sake she's in like   False    True   \n",
      "5  No da:)he is stupid da..always sending like th...  False    True   \n",
      "6  Lul im gettin some juicy gossip at the hospita...  False    True   \n",
      "\n",
      "   profan-prob Unnamed: 5  \n",
      "0     0.950815        NaN  \n",
      "1     0.933739        NaN  \n",
      "4     0.879296        NaN  \n",
      "5     0.873534        NaN  \n",
      "6     0.869893        NaN  \n"
     ]
    }
   ],
   "source": [
    "#import releveant libraries and data\n",
    "import pandas as pd \n",
    "from sklearn.feature_extraction.text import CountVectorizer \n",
    "from sklearn.neighbors import KNeighborsClassifier \n",
    "from sklearn.tree import DecisionTreeClassifier \n",
    "from sklearn.model_selection import train_test_split \n",
    "from sklearn.model_selection import GridSearchCV \n",
    "from sklearn.metrics import accuracy_score,balanced_accuracy_score,confusion_matrix, ConfusionMatrixDisplay \n",
    "from imblearn.over_sampling import SMOTE\n",
    "import matplotlib.pyplot as plt\n",
    "\n",
    "import ssl\n",
    "import nltk \n",
    "from nltk.corpus import stopwords \n",
    "from nltk.tokenize import word_tokenize \n",
    "\n",
    "data_filepath = 'A3_sms.csv'\n",
    "df = pd.read_csv('A3_sms.csv', sep=',', header=0, index_col = 'Unnamed: 0')\n",
    "print(df.head())"
   ]
  },
  {
   "cell_type": "code",
   "execution_count": 2,
   "id": "72bff6db",
   "metadata": {},
   "outputs": [],
   "source": [
    "df = df.drop(columns = 'profan', axis = 1)\n",
    "df = df.drop(columns = 'profan-prob', axis = 1)\n",
    "#Theses columns were instructed to be removed as per a course annoucnemnt."
   ]
  },
  {
   "cell_type": "markdown",
   "id": "126f4402",
   "metadata": {},
   "source": [
    "# Data Exploration and Cleaning"
   ]
  },
  {
   "cell_type": "code",
   "execution_count": 3,
   "id": "5023b4fe",
   "metadata": {},
   "outputs": [
    {
     "name": "stdout",
     "output_type": "stream",
     "text": [
      "<class 'pandas.core.frame.DataFrame'>\n",
      "Int64Index: 5351 entries, 0 to 5352\n",
      "Data columns (total 3 columns):\n",
      " #   Column      Non-Null Count  Dtype \n",
      "---  ------      --------------  ----- \n",
      " 0   sms         5351 non-null   object\n",
      " 1   spam        5351 non-null   bool  \n",
      " 2   Unnamed: 5  49 non-null     object\n",
      "dtypes: bool(1), object(2)\n",
      "memory usage: 130.6+ KB\n"
     ]
    }
   ],
   "source": [
    "df.info()"
   ]
  },
  {
   "cell_type": "code",
   "execution_count": 4,
   "id": "b82644a9",
   "metadata": {},
   "outputs": [
    {
     "data": {
      "text/html": [
       "<div>\n",
       "<style scoped>\n",
       "    .dataframe tbody tr th:only-of-type {\n",
       "        vertical-align: middle;\n",
       "    }\n",
       "\n",
       "    .dataframe tbody tr th {\n",
       "        vertical-align: top;\n",
       "    }\n",
       "\n",
       "    .dataframe thead th {\n",
       "        text-align: right;\n",
       "    }\n",
       "</style>\n",
       "<table border=\"1\" class=\"dataframe\">\n",
       "  <thead>\n",
       "    <tr style=\"text-align: right;\">\n",
       "      <th></th>\n",
       "      <th>sms</th>\n",
       "      <th>spam</th>\n",
       "      <th>Unnamed: 5</th>\n",
       "    </tr>\n",
       "  </thead>\n",
       "  <tbody>\n",
       "    <tr>\n",
       "      <th>0</th>\n",
       "      <td>1. Tension face 2. Smiling face 3. Waste face ...</td>\n",
       "      <td>False</td>\n",
       "      <td>NaN</td>\n",
       "    </tr>\n",
       "    <tr>\n",
       "      <th>1</th>\n",
       "      <td>Hhahhaahahah rofl was leonardo in your room or...</td>\n",
       "      <td>False</td>\n",
       "      <td>NaN</td>\n",
       "    </tr>\n",
       "    <tr>\n",
       "      <th>4</th>\n",
       "      <td>Oh for  sake she's in like</td>\n",
       "      <td>False</td>\n",
       "      <td>NaN</td>\n",
       "    </tr>\n",
       "    <tr>\n",
       "      <th>5</th>\n",
       "      <td>No da:)he is stupid da..always sending like th...</td>\n",
       "      <td>False</td>\n",
       "      <td>NaN</td>\n",
       "    </tr>\n",
       "    <tr>\n",
       "      <th>6</th>\n",
       "      <td>Lul im gettin some juicy gossip at the hospita...</td>\n",
       "      <td>False</td>\n",
       "      <td>NaN</td>\n",
       "    </tr>\n",
       "  </tbody>\n",
       "</table>\n",
       "</div>"
      ],
      "text/plain": [
       "                                                 sms   spam Unnamed: 5\n",
       "0  1. Tension face 2. Smiling face 3. Waste face ...  False        NaN\n",
       "1  Hhahhaahahah rofl was leonardo in your room or...  False        NaN\n",
       "4                        Oh for  sake she's in like   False        NaN\n",
       "5  No da:)he is stupid da..always sending like th...  False        NaN\n",
       "6  Lul im gettin some juicy gossip at the hospita...  False        NaN"
      ]
     },
     "execution_count": 4,
     "metadata": {},
     "output_type": "execute_result"
    }
   ],
   "source": [
    "df.head()"
   ]
  },
  {
   "cell_type": "code",
   "execution_count": 5,
   "id": "581602d5",
   "metadata": {},
   "outputs": [
    {
     "data": {
      "text/plain": [
       "Unnamed: 5\n",
       "********      48\n",
       "\\/\\/\\/\\/\\/     1\n",
       "dtype: int64"
      ]
     },
     "execution_count": 5,
     "metadata": {},
     "output_type": "execute_result"
    }
   ],
   "source": [
    "df.value_counts('Unnamed: 5')"
   ]
  },
  {
   "cell_type": "code",
   "execution_count": 6,
   "id": "c631ebd0",
   "metadata": {},
   "outputs": [],
   "source": [
    "placeholder_column = df['Unnamed: 5']\n",
    "df = df.drop(columns ='Unnamed: 5')"
   ]
  },
  {
   "cell_type": "code",
   "execution_count": 7,
   "id": "7a58ad70",
   "metadata": {},
   "outputs": [
    {
     "name": "stdout",
     "output_type": "stream",
     "text": [
      "11      Do you ever notice that when you're driving, a...\n",
      "42      cmon babe, make me , ! Txt me  now babe -) Im ...\n",
      "71      Hey I am really  want to chat or  text hot to ...\n",
      "140     Dear Dave this is your final notice to collect...\n",
      "141     okmail: Dear Dave this is your final notice to...\n",
      "                              ...                        \n",
      "5347    Congratulations! Thanks to a good friend U hav...\n",
      "5348    Congratulations! Thanks to a good friend U hav...\n",
      "5349    Congratulations - Thanks to a good friend U ha...\n",
      "5350    URGENT! Your mobile number *************** WON...\n",
      "5351    URGENT! Your Mobile No was awarded a Â£2,000 B...\n",
      "Name: sms, Length: 602, dtype: object\n"
     ]
    }
   ],
   "source": [
    "print(df['sms'][df['spam'] == True].drop_duplicates())"
   ]
  },
  {
   "cell_type": "code",
   "execution_count": 8,
   "id": "eaba5199",
   "metadata": {},
   "outputs": [
    {
     "name": "stdout",
     "output_type": "stream",
     "text": [
      "0       1. Tension face 2. Smiling face 3. Waste face ...\n",
      "1       Hhahhaahahah rofl was leonardo in your room or...\n",
      "4                             Oh for  sake she's in like \n",
      "5       No da:)he is stupid da..always sending like th...\n",
      "6       Lul im gettin some juicy gossip at the hospita...\n",
      "                              ...                        \n",
      "5336    Depends on individual lor e hair dresser say p...\n",
      "5337    Thanks for your message. I really appreciate y...\n",
      "5338    I sent my scores to sophas and i had to do sec...\n",
      "5341    &lt;#&gt;  is fast approaching. So, Wish u a v...\n",
      "5352    Do whatever you want. You know what the rules ...\n",
      "Name: sms, Length: 4346, dtype: object\n"
     ]
    }
   ],
   "source": [
    "print(df['sms'][df['spam'] == False].drop_duplicates())"
   ]
  },
  {
   "cell_type": "code",
   "execution_count": 9,
   "id": "7d9871cd",
   "metadata": {},
   "outputs": [],
   "source": [
    "spam = list(df['sms'][df['spam'] == True].drop_duplicates())"
   ]
  },
  {
   "cell_type": "code",
   "execution_count": 10,
   "id": "0876c5e4",
   "metadata": {},
   "outputs": [],
   "source": [
    "ham = list(df['sms'][df['spam'] == False].drop_duplicates())"
   ]
  },
  {
   "cell_type": "code",
   "execution_count": 11,
   "id": "4a62bed9",
   "metadata": {},
   "outputs": [
    {
     "data": {
      "text/plain": [
       "[\"Do you ever notice that when you're driving, anyone going slower than you is an idiot and everyone driving faster than you is a maniac?\",\n",
       " 'cmon babe, make me , ! Txt me  now babe -) Im . All replies cost Â£1.50. 2 cancel send STOP',\n",
       " 'Hey I am really  want to chat or  text hot to 69698 text charged at 150pm to unsubscribe text stop 69698',\n",
       " 'Dear Dave this is your final notice to collect your 4* Tenerife Holiday or #5000 CASH award! Call 09061743806 from landline. TCs SAE Box326 CW25WX 150ppm',\n",
       " 'okmail: Dear Dave this is your final notice to collect your 4* Tenerife Holiday or #5000 CASH award! Call 09061743806 from landline. TCs SAE Box326 CW25WX 150ppm',\n",
       " 'ROMCAPspam Everyone around should be responding well to your presence since you are so warm and outgoing. You are bringing in a real breath of sunshine.',\n",
       " \"8007 25p 4 Alfie Moon's Children in Need song on ur mob. Tell ur m8s. Txt TONE CHARITY to 8007 for nokias or POLY CHARITY for polys :zed 08701417012 profit 2 charity\",\n",
       " \"5p 4 alfie Moon's Children in need song on ur mob. Tell ur m8s. Txt Tone charity to 8007 for Nokias or Poly charity for polys: zed 08701417012 profit 2 charity.\",\n",
       " \"25p 4 alfie Moon's Children in need song on ur mob. Tell ur m8s. Txt Tone charity to 8007 for Nokias or Poly charity for polys: zed 08701417012 profit 2 charity.\",\n",
       " 'Natalie (20/F) is inviting you to be her friend. Reply YES-165 or NO-165 See her: www.SMS.ac/u/natalie2k9 STOP? Send STOP FRND to 62468']"
      ]
     },
     "execution_count": 11,
     "metadata": {},
     "output_type": "execute_result"
    }
   ],
   "source": [
    "spamlist = list(spam)\n",
    "spamlist[0:10]"
   ]
  },
  {
   "cell_type": "code",
   "execution_count": 12,
   "id": "7ae62a33",
   "metadata": {},
   "outputs": [
    {
     "data": {
      "text/plain": [
       "['1. Tension face 2. Smiling face 3. Waste face 4. Innocent face 5.Terror face 6.Cruel face 7.Romantic face 8.Lovable face 9.decent face &lt;#&gt; .joker face.',\n",
       " 'Hhahhaahahah rofl was leonardo in your room or something',\n",
       " \"Oh for  sake she's in like \",\n",
       " 'No da:)he is stupid da..always sending like this:)don believe any of those message.pandy is a :)',\n",
       " 'Lul im gettin some juicy gossip at the hospital.  Oyea.',\n",
       " 'My planning usually stops at \"find hella weed, smoke hella weed\"',\n",
       " 'How dare you stupid. I wont tell anything to you. Hear after i wont talk to you:-.',\n",
       " '\"HI BABE UAWAKE?FEELLIKW .JUSTFOUND OUT VIA ALETTER THATMUM GOTMARRIED 4thNOV.BEHIND OURBACKS Â– (oofin) NICE!,.ANYWAY,IÂ’L CALL U\"',\n",
       " 'Ho ho - big belly laugh! See ya tomo',\n",
       " 'I love u 2 babe! R u sure everything is alrite. Is he being an idiot? Txt bak girlie']"
      ]
     },
     "execution_count": 12,
     "metadata": {},
     "output_type": "execute_result"
    }
   ],
   "source": [
    "hamlist = list(ham)\n",
    "hamlist[0:10]"
   ]
  },
  {
   "cell_type": "markdown",
   "id": "75a4da1f",
   "metadata": {},
   "source": [
    "I noted that this code was used in the vocareum activities to download punkt and stopwords however it was unneccessary for me to download it as I was using anaconda, I have added it as a comment to note that it may be needed for other IDEs.\n",
    "try:\n",
    "    _create_unverified_https_context = ssl._create_unverified_context\n",
    "except AttributeError:\n",
    "    pass \n",
    "else:\n",
    "    ssl._create_default_https_context = _create_unverified_https_context\n",
    "nltk.download('punkt') \n",
    "nltk.download('stopwords') \n",
    "    "
   ]
  },
  {
   "cell_type": "code",
   "execution_count": 13,
   "id": "5d904bc1",
   "metadata": {},
   "outputs": [
    {
     "data": {
      "text/plain": [
       "['i', 'me', 'my', 'myself', 'we', 'our', 'ours', 'ourselves', 'you', \"you're\"]"
      ]
     },
     "execution_count": 13,
     "metadata": {},
     "output_type": "execute_result"
    }
   ],
   "source": [
    "prepstopwords = stopwords.words('english')\n",
    "prepstopwords[0:10]"
   ]
  },
  {
   "cell_type": "code",
   "execution_count": 14,
   "id": "3c2fd585",
   "metadata": {},
   "outputs": [],
   "source": [
    "spamprep = [sms.lower() for sms in spamlist]\n",
    "hamprep = [sms.lower() for sms in hamlist]"
   ]
  },
  {
   "cell_type": "code",
   "execution_count": 15,
   "id": "528e1b6a",
   "metadata": {},
   "outputs": [],
   "source": [
    "spamprep = [word_tokenize(sms) for sms in spamprep]\n",
    "hamprep = [word_tokenize(sms) for sms in hamprep]"
   ]
  },
  {
   "cell_type": "code",
   "execution_count": 16,
   "id": "ca8800b2",
   "metadata": {},
   "outputs": [
    {
     "name": "stdout",
     "output_type": "stream",
     "text": [
      "['do', 'you', 'ever', 'notice', 'that', 'when', 'you', \"'re\", 'driving', ',', 'anyone', 'going', 'slower', 'than', 'you', 'is', 'an', 'idiot', 'and', 'everyone', 'driving', 'faster', 'than', 'you', 'is', 'a', 'maniac', '?']\n",
      "['1.', 'tension', 'face', '2.', 'smiling', 'face', '3.', 'waste', 'face', '4.', 'innocent', 'face', '5.terror', 'face', '6.cruel', 'face', '7.romantic', 'face', '8.lovable', 'face', '9.decent', 'face', '&', 'lt', ';', '#', '&', 'gt', ';', '.joker', 'face', '.']\n"
     ]
    }
   ],
   "source": [
    "print(spamprep[0])\n",
    "print(hamprep[0])"
   ]
  },
  {
   "cell_type": "code",
   "execution_count": 17,
   "id": "9e878f92",
   "metadata": {},
   "outputs": [
    {
     "name": "stdout",
     "output_type": "stream",
     "text": [
      "['ever', 'notice', \"'re\", 'driving', ',', 'anyone', 'going', 'slower', 'idiot', 'everyone', 'driving', 'faster', 'maniac', '?']\n",
      "['1.', 'tension', 'face', '2.', 'smiling', 'face', '3.', 'waste', 'face', '4.', 'innocent', 'face', '5.terror', 'face', '6.cruel', 'face', '7.romantic', 'face', '8.lovable', 'face', '9.decent', 'face', '&', 'lt', ';', '#', '&', 'gt', ';', '.joker', 'face', '.']\n"
     ]
    }
   ],
   "source": [
    "spamprep = [[word for word in sms if not word in prepstopwords] for sms in spamprep] \n",
    "hamprep = [[word for word in sms if not word in prepstopwords] for sms in hamprep]\n",
    "print(spamprep[0]) \n",
    "print(hamprep[0]) "
   ]
  },
  {
   "cell_type": "code",
   "execution_count": 18,
   "id": "a10dcb40",
   "metadata": {},
   "outputs": [],
   "source": [
    "# Make a data visualisation here"
   ]
  },
  {
   "cell_type": "code",
   "execution_count": 19,
   "id": "e5eb873b",
   "metadata": {},
   "outputs": [
    {
     "data": {
      "text/plain": [
       "602"
      ]
     },
     "execution_count": 19,
     "metadata": {},
     "output_type": "execute_result"
    }
   ],
   "source": [
    "len(spam)"
   ]
  },
  {
   "cell_type": "code",
   "execution_count": 20,
   "id": "d7b3e1d1",
   "metadata": {},
   "outputs": [
    {
     "data": {
      "text/plain": [
       "4346"
      ]
     },
     "execution_count": 20,
     "metadata": {},
     "output_type": "execute_result"
    }
   ],
   "source": [
    "len(ham)"
   ]
  },
  {
   "cell_type": "code",
   "execution_count": 21,
   "id": "e1efd530",
   "metadata": {},
   "outputs": [
    {
     "data": {
      "text/plain": [
       "Text(0.5, 1.0, 'Distribution of Target Variable')"
      ]
     },
     "execution_count": 21,
     "metadata": {},
     "output_type": "execute_result"
    },
    {
     "data": {
      "image/png": "[encoded data removed]",
      "text/plain": [
       "<Figure size 640x480 with 1 Axes>"
      ]
     },
     "metadata": {},
     "output_type": "display_data"
    }
   ],
   "source": [
    "ax = plt.subplot()\n",
    "plt.bar(x = ['Spam', 'Ham'], height = [len(spam), len(ham)])\n",
    "ax.set_ylabel(\"Count\")\n",
    "plt.title(\"Distribution of Target Variable\")"
   ]
  },
  {
   "cell_type": "markdown",
   "id": "d9318395",
   "metadata": {},
   "source": [
    "Significantly imbalanced data suggests that minority sample techniques SMOTE might be applicable."
   ]
  },
  {
   "cell_type": "markdown",
   "id": "17949671",
   "metadata": {},
   "source": [
    "# Data Preprocessing Using Count Vectorizer"
   ]
  },
  {
   "cell_type": "code",
   "execution_count": 22,
   "id": "9178d2f7",
   "metadata": {},
   "outputs": [],
   "source": [
    "CountVec = CountVectorizer(lowercase=True,analyzer='word',stop_words='english') "
   ]
  },
  {
   "cell_type": "code",
   "execution_count": 23,
   "id": "324b1301",
   "metadata": {},
   "outputs": [],
   "source": [
    "feature_vectors = CountVec.fit_transform(ham + spam) "
   ]
  },
  {
   "cell_type": "markdown",
   "id": "4a17e235",
   "metadata": {},
   "source": [
    "## Creating a base Train/Test Split\n",
    "\n",
    "The project will create a train test split as raw (Imbalanced) and then will create a Train/Test Split using Smote."
   ]
  },
  {
   "cell_type": "code",
   "execution_count": 24,
   "id": "2f8c7bae",
   "metadata": {},
   "outputs": [],
   "source": [
    "X_train, X_test, y_train, y_test = train_test_split(feature_vectors, [0] * len(ham) + [1] * len(spam), random_state = 7, test_size=0.2)\n",
    "\n",
    "\n",
    "X_train_smote, y_train_smote =SMOTE().fit_resample(X_train, y_train)"
   ]
  },
  {
   "cell_type": "markdown",
   "id": "a92bf243",
   "metadata": {},
   "source": [
    "# K Nearest Neighbors"
   ]
  },
  {
   "cell_type": "code",
   "execution_count": 25,
   "id": "568da28d",
   "metadata": {},
   "outputs": [],
   "source": [
    "KNN = KNeighborsClassifier()\n",
    "#n_neighbours needs to be odd numbered to avoid ties for classification\n",
    "hyperparametersforKNN = {'n_neighbors' :[1, 3, 5, 7, 9, 11],\n",
    "                        'p': [1,2]}\n",
    "kneighbors = GridSearchCV(KNN, hyperparametersforKNN, scoring ='accuracy', refit = True, n_jobs=-1)"
   ]
  },
  {
   "cell_type": "code",
   "execution_count": 26,
   "id": "caa2a3f6",
   "metadata": {},
   "outputs": [
    {
     "data": {
      "text/html": [
       "<style>#sk-container-id-1 {color: black;background-color: white;}#sk-container-id-1 pre{padding: 0;}#sk-container-id-1 div.sk-toggleable {background-color: white;}#sk-container-id-1 label.sk-toggleable__label {cursor: pointer;display: block;width: 100%;margin-bottom: 0;padding: 0.3em;box-sizing: border-box;text-align: center;}#sk-container-id-1 label.sk-toggleable__label-arrow:before {content: \"▸\";float: left;margin-right: 0.25em;color: #696969;}#sk-container-id-1 label.sk-toggleable__label-arrow:hover:before {color: black;}#sk-container-id-1 div.sk-estimator:hover label.sk-toggleable__label-arrow:before {color: black;}#sk-container-id-1 div.sk-toggleable__content {max-height: 0;max-width: 0;overflow: hidden;text-align: left;background-color: #f0f8ff;}#sk-container-id-1 div.sk-toggleable__content pre {margin: 0.2em;color: black;border-radius: 0.25em;background-color: #f0f8ff;}#sk-container-id-1 input.sk-toggleable__control:checked~div.sk-toggleable__content {max-height: 200px;max-width: 100%;overflow: auto;}#sk-container-id-1 input.sk-toggleable__control:checked~label.sk-toggleable__label-arrow:before {content: \"▾\";}#sk-container-id-1 div.sk-estimator input.sk-toggleable__control:checked~label.sk-toggleable__label {background-color: #d4ebff;}#sk-container-id-1 div.sk-label input.sk-toggleable__control:checked~label.sk-toggleable__label {background-color: #d4ebff;}#sk-container-id-1 input.sk-hidden--visually {border: 0;clip: rect(1px 1px 1px 1px);clip: rect(1px, 1px, 1px, 1px);height: 1px;margin: -1px;overflow: hidden;padding: 0;position: absolute;width: 1px;}#sk-container-id-1 div.sk-estimator {font-family: monospace;background-color: #f0f8ff;border: 1px dotted black;border-radius: 0.25em;box-sizing: border-box;margin-bottom: 0.5em;}#sk-container-id-1 div.sk-estimator:hover {background-color: #d4ebff;}#sk-container-id-1 div.sk-parallel-item::after {content: \"\";width: 100%;border-bottom: 1px solid gray;flex-grow: 1;}#sk-container-id-1 div.sk-label:hover label.sk-toggleable__label {background-color: #d4ebff;}#sk-container-id-1 div.sk-serial::before {content: \"\";position: absolute;border-left: 1px solid gray;box-sizing: border-box;top: 0;bottom: 0;left: 50%;z-index: 0;}#sk-container-id-1 div.sk-serial {display: flex;flex-direction: column;align-items: center;background-color: white;padding-right: 0.2em;padding-left: 0.2em;position: relative;}#sk-container-id-1 div.sk-item {position: relative;z-index: 1;}#sk-container-id-1 div.sk-parallel {display: flex;align-items: stretch;justify-content: center;background-color: white;position: relative;}#sk-container-id-1 div.sk-item::before, #sk-container-id-1 div.sk-parallel-item::before {content: \"\";position: absolute;border-left: 1px solid gray;box-sizing: border-box;top: 0;bottom: 0;left: 50%;z-index: -1;}#sk-container-id-1 div.sk-parallel-item {display: flex;flex-direction: column;z-index: 1;position: relative;background-color: white;}#sk-container-id-1 div.sk-parallel-item:first-child::after {align-self: flex-end;width: 50%;}#sk-container-id-1 div.sk-parallel-item:last-child::after {align-self: flex-start;width: 50%;}#sk-container-id-1 div.sk-parallel-item:only-child::after {width: 0;}#sk-container-id-1 div.sk-dashed-wrapped {border: 1px dashed gray;margin: 0 0.4em 0.5em 0.4em;box-sizing: border-box;padding-bottom: 0.4em;background-color: white;}#sk-container-id-1 div.sk-label label {font-family: monospace;font-weight: bold;display: inline-block;line-height: 1.2em;}#sk-container-id-1 div.sk-label-container {text-align: center;}#sk-container-id-1 div.sk-container {/* jupyter's `normalize.less` sets `[hidden] { display: none; }` but bootstrap.min.css set `[hidden] { display: none !important; }` so we also need the `!important` here to be able to override the default hidden behavior on the sphinx rendered scikit-learn.org. See: https://github.com/scikit-learn/scikit-learn/issues/21755 */display: inline-block !important;position: relative;}#sk-container-id-1 div.sk-text-repr-fallback {display: none;}</style><div id=\"sk-container-id-1\" class=\"sk-top-container\"><div class=\"sk-text-repr-fallback\"><pre>GridSearchCV(estimator=KNeighborsClassifier(), n_jobs=-1,\n",
       "             param_grid={&#x27;n_neighbors&#x27;: [1, 3, 5, 7, 9, 11], &#x27;p&#x27;: [1, 2]},\n",
       "             scoring=&#x27;accuracy&#x27;)</pre><b>In a Jupyter environment, please rerun this cell to show the HTML representation or trust the notebook. <br />On GitHub, the HTML representation is unable to render, please try loading this page with nbviewer.org.</b></div><div class=\"sk-container\" hidden><div class=\"sk-item sk-dashed-wrapped\"><div class=\"sk-label-container\"><div class=\"sk-label sk-toggleable\"><input class=\"sk-toggleable__control sk-hidden--visually\" id=\"sk-estimator-id-1\" type=\"checkbox\" ><label for=\"sk-estimator-id-1\" class=\"sk-toggleable__label sk-toggleable__label-arrow\">GridSearchCV</label><div class=\"sk-toggleable__content\"><pre>GridSearchCV(estimator=KNeighborsClassifier(), n_jobs=-1,\n",
       "             param_grid={&#x27;n_neighbors&#x27;: [1, 3, 5, 7, 9, 11], &#x27;p&#x27;: [1, 2]},\n",
       "             scoring=&#x27;accuracy&#x27;)</pre></div></div></div><div class=\"sk-parallel\"><div class=\"sk-parallel-item\"><div class=\"sk-item\"><div class=\"sk-label-container\"><div class=\"sk-label sk-toggleable\"><input class=\"sk-toggleable__control sk-hidden--visually\" id=\"sk-estimator-id-2\" type=\"checkbox\" ><label for=\"sk-estimator-id-2\" class=\"sk-toggleable__label sk-toggleable__label-arrow\">estimator: KNeighborsClassifier</label><div class=\"sk-toggleable__content\"><pre>KNeighborsClassifier()</pre></div></div></div><div class=\"sk-serial\"><div class=\"sk-item\"><div class=\"sk-estimator sk-toggleable\"><input class=\"sk-toggleable__control sk-hidden--visually\" id=\"sk-estimator-id-3\" type=\"checkbox\" ><label for=\"sk-estimator-id-3\" class=\"sk-toggleable__label sk-toggleable__label-arrow\">KNeighborsClassifier</label><div class=\"sk-toggleable__content\"><pre>KNeighborsClassifier()</pre></div></div></div></div></div></div></div></div></div></div>"
      ],
      "text/plain": [
       "GridSearchCV(estimator=KNeighborsClassifier(), n_jobs=-1,\n",
       "             param_grid={'n_neighbors': [1, 3, 5, 7, 9, 11], 'p': [1, 2]},\n",
       "             scoring='accuracy')"
      ]
     },
     "execution_count": 26,
     "metadata": {},
     "output_type": "execute_result"
    }
   ],
   "source": [
    "kneighbors.fit(X_train, y_train)"
   ]
  },
  {
   "cell_type": "code",
   "execution_count": 27,
   "id": "4e34b993",
   "metadata": {},
   "outputs": [
    {
     "data": {
      "text/html": [
       "<div>\n",
       "<style scoped>\n",
       "    .dataframe tbody tr th:only-of-type {\n",
       "        vertical-align: middle;\n",
       "    }\n",
       "\n",
       "    .dataframe tbody tr th {\n",
       "        vertical-align: top;\n",
       "    }\n",
       "\n",
       "    .dataframe thead th {\n",
       "        text-align: right;\n",
       "    }\n",
       "</style>\n",
       "<table border=\"1\" class=\"dataframe\">\n",
       "  <thead>\n",
       "    <tr style=\"text-align: right;\">\n",
       "      <th></th>\n",
       "      <th>mean_fit_time</th>\n",
       "      <th>std_fit_time</th>\n",
       "      <th>mean_score_time</th>\n",
       "      <th>std_score_time</th>\n",
       "      <th>param_n_neighbors</th>\n",
       "      <th>param_p</th>\n",
       "      <th>params</th>\n",
       "      <th>split0_test_score</th>\n",
       "      <th>split1_test_score</th>\n",
       "      <th>split2_test_score</th>\n",
       "      <th>split3_test_score</th>\n",
       "      <th>split4_test_score</th>\n",
       "      <th>mean_test_score</th>\n",
       "      <th>std_test_score</th>\n",
       "      <th>rank_test_score</th>\n",
       "    </tr>\n",
       "  </thead>\n",
       "  <tbody>\n",
       "    <tr>\n",
       "      <th>0</th>\n",
       "      <td>0.001059</td>\n",
       "      <td>0.000014</td>\n",
       "      <td>0.173004</td>\n",
       "      <td>0.007963</td>\n",
       "      <td>1</td>\n",
       "      <td>1</td>\n",
       "      <td>{'n_neighbors': 1, 'p': 1}</td>\n",
       "      <td>0.931818</td>\n",
       "      <td>0.933081</td>\n",
       "      <td>0.933081</td>\n",
       "      <td>0.938053</td>\n",
       "      <td>0.944374</td>\n",
       "      <td>0.936081</td>\n",
       "      <td>0.004666</td>\n",
       "      <td>2</td>\n",
       "    </tr>\n",
       "    <tr>\n",
       "      <th>1</th>\n",
       "      <td>0.001975</td>\n",
       "      <td>0.001756</td>\n",
       "      <td>0.042930</td>\n",
       "      <td>0.004994</td>\n",
       "      <td>1</td>\n",
       "      <td>2</td>\n",
       "      <td>{'n_neighbors': 1, 'p': 2}</td>\n",
       "      <td>0.938131</td>\n",
       "      <td>0.933081</td>\n",
       "      <td>0.934343</td>\n",
       "      <td>0.940582</td>\n",
       "      <td>0.948167</td>\n",
       "      <td>0.938861</td>\n",
       "      <td>0.005365</td>\n",
       "      <td>1</td>\n",
       "    </tr>\n",
       "    <tr>\n",
       "      <th>2</th>\n",
       "      <td>0.004066</td>\n",
       "      <td>0.002169</td>\n",
       "      <td>0.210929</td>\n",
       "      <td>0.015451</td>\n",
       "      <td>3</td>\n",
       "      <td>1</td>\n",
       "      <td>{'n_neighbors': 3, 'p': 1}</td>\n",
       "      <td>0.911616</td>\n",
       "      <td>0.914141</td>\n",
       "      <td>0.910354</td>\n",
       "      <td>0.911504</td>\n",
       "      <td>0.921618</td>\n",
       "      <td>0.913847</td>\n",
       "      <td>0.004078</td>\n",
       "      <td>4</td>\n",
       "    </tr>\n",
       "    <tr>\n",
       "      <th>3</th>\n",
       "      <td>0.003073</td>\n",
       "      <td>0.001459</td>\n",
       "      <td>0.069697</td>\n",
       "      <td>0.009339</td>\n",
       "      <td>3</td>\n",
       "      <td>2</td>\n",
       "      <td>{'n_neighbors': 3, 'p': 2}</td>\n",
       "      <td>0.916667</td>\n",
       "      <td>0.915404</td>\n",
       "      <td>0.915404</td>\n",
       "      <td>0.912769</td>\n",
       "      <td>0.924147</td>\n",
       "      <td>0.916878</td>\n",
       "      <td>0.003850</td>\n",
       "      <td>3</td>\n",
       "    </tr>\n",
       "    <tr>\n",
       "      <th>4</th>\n",
       "      <td>0.003615</td>\n",
       "      <td>0.002294</td>\n",
       "      <td>0.186513</td>\n",
       "      <td>0.009281</td>\n",
       "      <td>5</td>\n",
       "      <td>1</td>\n",
       "      <td>{'n_neighbors': 5, 'p': 1}</td>\n",
       "      <td>0.900253</td>\n",
       "      <td>0.900253</td>\n",
       "      <td>0.905303</td>\n",
       "      <td>0.905183</td>\n",
       "      <td>0.907712</td>\n",
       "      <td>0.903741</td>\n",
       "      <td>0.002988</td>\n",
       "      <td>6</td>\n",
       "    </tr>\n",
       "    <tr>\n",
       "      <th>5</th>\n",
       "      <td>0.003479</td>\n",
       "      <td>0.001781</td>\n",
       "      <td>0.042579</td>\n",
       "      <td>0.004571</td>\n",
       "      <td>5</td>\n",
       "      <td>2</td>\n",
       "      <td>{'n_neighbors': 5, 'p': 2}</td>\n",
       "      <td>0.902778</td>\n",
       "      <td>0.902778</td>\n",
       "      <td>0.907828</td>\n",
       "      <td>0.903919</td>\n",
       "      <td>0.908976</td>\n",
       "      <td>0.905256</td>\n",
       "      <td>0.002628</td>\n",
       "      <td>5</td>\n",
       "    </tr>\n",
       "    <tr>\n",
       "      <th>6</th>\n",
       "      <td>0.001956</td>\n",
       "      <td>0.000516</td>\n",
       "      <td>0.193258</td>\n",
       "      <td>0.010642</td>\n",
       "      <td>7</td>\n",
       "      <td>1</td>\n",
       "      <td>{'n_neighbors': 7, 'p': 1}</td>\n",
       "      <td>0.891414</td>\n",
       "      <td>0.888889</td>\n",
       "      <td>0.897727</td>\n",
       "      <td>0.898862</td>\n",
       "      <td>0.888748</td>\n",
       "      <td>0.893128</td>\n",
       "      <td>0.004339</td>\n",
       "      <td>8</td>\n",
       "    </tr>\n",
       "    <tr>\n",
       "      <th>7</th>\n",
       "      <td>0.002700</td>\n",
       "      <td>0.001887</td>\n",
       "      <td>0.056226</td>\n",
       "      <td>0.005709</td>\n",
       "      <td>7</td>\n",
       "      <td>2</td>\n",
       "      <td>{'n_neighbors': 7, 'p': 2}</td>\n",
       "      <td>0.895202</td>\n",
       "      <td>0.890152</td>\n",
       "      <td>0.898990</td>\n",
       "      <td>0.897598</td>\n",
       "      <td>0.895070</td>\n",
       "      <td>0.895402</td>\n",
       "      <td>0.003014</td>\n",
       "      <td>7</td>\n",
       "    </tr>\n",
       "    <tr>\n",
       "      <th>8</th>\n",
       "      <td>0.001954</td>\n",
       "      <td>0.001068</td>\n",
       "      <td>0.184280</td>\n",
       "      <td>0.011394</td>\n",
       "      <td>9</td>\n",
       "      <td>1</td>\n",
       "      <td>{'n_neighbors': 9, 'p': 1}</td>\n",
       "      <td>0.888889</td>\n",
       "      <td>0.883838</td>\n",
       "      <td>0.886364</td>\n",
       "      <td>0.886220</td>\n",
       "      <td>0.887484</td>\n",
       "      <td>0.886559</td>\n",
       "      <td>0.001664</td>\n",
       "      <td>10</td>\n",
       "    </tr>\n",
       "    <tr>\n",
       "      <th>9</th>\n",
       "      <td>0.003097</td>\n",
       "      <td>0.001998</td>\n",
       "      <td>0.049214</td>\n",
       "      <td>0.007696</td>\n",
       "      <td>9</td>\n",
       "      <td>2</td>\n",
       "      <td>{'n_neighbors': 9, 'p': 2}</td>\n",
       "      <td>0.888889</td>\n",
       "      <td>0.885101</td>\n",
       "      <td>0.891414</td>\n",
       "      <td>0.888748</td>\n",
       "      <td>0.890013</td>\n",
       "      <td>0.888833</td>\n",
       "      <td>0.002097</td>\n",
       "      <td>9</td>\n",
       "    </tr>\n",
       "    <tr>\n",
       "      <th>10</th>\n",
       "      <td>0.003929</td>\n",
       "      <td>0.001592</td>\n",
       "      <td>0.179175</td>\n",
       "      <td>0.005639</td>\n",
       "      <td>11</td>\n",
       "      <td>1</td>\n",
       "      <td>{'n_neighbors': 11, 'p': 1}</td>\n",
       "      <td>0.885101</td>\n",
       "      <td>0.883838</td>\n",
       "      <td>0.880051</td>\n",
       "      <td>0.881163</td>\n",
       "      <td>0.882427</td>\n",
       "      <td>0.882516</td>\n",
       "      <td>0.001808</td>\n",
       "      <td>12</td>\n",
       "    </tr>\n",
       "    <tr>\n",
       "      <th>11</th>\n",
       "      <td>0.003147</td>\n",
       "      <td>0.002677</td>\n",
       "      <td>0.043444</td>\n",
       "      <td>0.005803</td>\n",
       "      <td>11</td>\n",
       "      <td>2</td>\n",
       "      <td>{'n_neighbors': 11, 'p': 2}</td>\n",
       "      <td>0.885101</td>\n",
       "      <td>0.882576</td>\n",
       "      <td>0.881313</td>\n",
       "      <td>0.882427</td>\n",
       "      <td>0.883692</td>\n",
       "      <td>0.883022</td>\n",
       "      <td>0.001284</td>\n",
       "      <td>11</td>\n",
       "    </tr>\n",
       "  </tbody>\n",
       "</table>\n",
       "</div>"
      ],
      "text/plain": [
       "    mean_fit_time  std_fit_time  mean_score_time  std_score_time  \\\n",
       "0        0.001059      0.000014         0.173004        0.007963   \n",
       "1        0.001975      0.001756         0.042930        0.004994   \n",
       "2        0.004066      0.002169         0.210929        0.015451   \n",
       "3        0.003073      0.001459         0.069697        0.009339   \n",
       "4        0.003615      0.002294         0.186513        0.009281   \n",
       "5        0.003479      0.001781         0.042579        0.004571   \n",
       "6        0.001956      0.000516         0.193258        0.010642   \n",
       "7        0.002700      0.001887         0.056226        0.005709   \n",
       "8        0.001954      0.001068         0.184280        0.011394   \n",
       "9        0.003097      0.001998         0.049214        0.007696   \n",
       "10       0.003929      0.001592         0.179175        0.005639   \n",
       "11       0.003147      0.002677         0.043444        0.005803   \n",
       "\n",
       "   param_n_neighbors param_p                       params  split0_test_score  \\\n",
       "0                  1       1   {'n_neighbors': 1, 'p': 1}           0.931818   \n",
       "1                  1       2   {'n_neighbors': 1, 'p': 2}           0.938131   \n",
       "2                  3       1   {'n_neighbors': 3, 'p': 1}           0.911616   \n",
       "3                  3       2   {'n_neighbors': 3, 'p': 2}           0.916667   \n",
       "4                  5       1   {'n_neighbors': 5, 'p': 1}           0.900253   \n",
       "5                  5       2   {'n_neighbors': 5, 'p': 2}           0.902778   \n",
       "6                  7       1   {'n_neighbors': 7, 'p': 1}           0.891414   \n",
       "7                  7       2   {'n_neighbors': 7, 'p': 2}           0.895202   \n",
       "8                  9       1   {'n_neighbors': 9, 'p': 1}           0.888889   \n",
       "9                  9       2   {'n_neighbors': 9, 'p': 2}           0.888889   \n",
       "10                11       1  {'n_neighbors': 11, 'p': 1}           0.885101   \n",
       "11                11       2  {'n_neighbors': 11, 'p': 2}           0.885101   \n",
       "\n",
       "    split1_test_score  split2_test_score  split3_test_score  \\\n",
       "0            0.933081           0.933081           0.938053   \n",
       "1            0.933081           0.934343           0.940582   \n",
       "2            0.914141           0.910354           0.911504   \n",
       "3            0.915404           0.915404           0.912769   \n",
       "4            0.900253           0.905303           0.905183   \n",
       "5            0.902778           0.907828           0.903919   \n",
       "6            0.888889           0.897727           0.898862   \n",
       "7            0.890152           0.898990           0.897598   \n",
       "8            0.883838           0.886364           0.886220   \n",
       "9            0.885101           0.891414           0.888748   \n",
       "10           0.883838           0.880051           0.881163   \n",
       "11           0.882576           0.881313           0.882427   \n",
       "\n",
       "    split4_test_score  mean_test_score  std_test_score  rank_test_score  \n",
       "0            0.944374         0.936081        0.004666                2  \n",
       "1            0.948167         0.938861        0.005365                1  \n",
       "2            0.921618         0.913847        0.004078                4  \n",
       "3            0.924147         0.916878        0.003850                3  \n",
       "4            0.907712         0.903741        0.002988                6  \n",
       "5            0.908976         0.905256        0.002628                5  \n",
       "6            0.888748         0.893128        0.004339                8  \n",
       "7            0.895070         0.895402        0.003014                7  \n",
       "8            0.887484         0.886559        0.001664               10  \n",
       "9            0.890013         0.888833        0.002097                9  \n",
       "10           0.882427         0.882516        0.001808               12  \n",
       "11           0.883692         0.883022        0.001284               11  "
      ]
     },
     "execution_count": 27,
     "metadata": {},
     "output_type": "execute_result"
    }
   ],
   "source": [
    "knnresults = pd.DataFrame(kneighbors.cv_results_)\n",
    "knnresults"
   ]
  },
  {
   "cell_type": "code",
   "execution_count": 28,
   "id": "4965dfb3",
   "metadata": {},
   "outputs": [
    {
     "data": {
      "text/plain": [
       "0.9388607950554853"
      ]
     },
     "execution_count": 28,
     "metadata": {},
     "output_type": "execute_result"
    }
   ],
   "source": [
    "kneighbors.best_score_"
   ]
  },
  {
   "cell_type": "code",
   "execution_count": 29,
   "id": "2a6338f9",
   "metadata": {},
   "outputs": [
    {
     "data": {
      "text/html": [
       "<style>#sk-container-id-2 {color: black;background-color: white;}#sk-container-id-2 pre{padding: 0;}#sk-container-id-2 div.sk-toggleable {background-color: white;}#sk-container-id-2 label.sk-toggleable__label {cursor: pointer;display: block;width: 100%;margin-bottom: 0;padding: 0.3em;box-sizing: border-box;text-align: center;}#sk-container-id-2 label.sk-toggleable__label-arrow:before {content: \"▸\";float: left;margin-right: 0.25em;color: #696969;}#sk-container-id-2 label.sk-toggleable__label-arrow:hover:before {color: black;}#sk-container-id-2 div.sk-estimator:hover label.sk-toggleable__label-arrow:before {color: black;}#sk-container-id-2 div.sk-toggleable__content {max-height: 0;max-width: 0;overflow: hidden;text-align: left;background-color: #f0f8ff;}#sk-container-id-2 div.sk-toggleable__content pre {margin: 0.2em;color: black;border-radius: 0.25em;background-color: #f0f8ff;}#sk-container-id-2 input.sk-toggleable__control:checked~div.sk-toggleable__content {max-height: 200px;max-width: 100%;overflow: auto;}#sk-container-id-2 input.sk-toggleable__control:checked~label.sk-toggleable__label-arrow:before {content: \"▾\";}#sk-container-id-2 div.sk-estimator input.sk-toggleable__control:checked~label.sk-toggleable__label {background-color: #d4ebff;}#sk-container-id-2 div.sk-label input.sk-toggleable__control:checked~label.sk-toggleable__label {background-color: #d4ebff;}#sk-container-id-2 input.sk-hidden--visually {border: 0;clip: rect(1px 1px 1px 1px);clip: rect(1px, 1px, 1px, 1px);height: 1px;margin: -1px;overflow: hidden;padding: 0;position: absolute;width: 1px;}#sk-container-id-2 div.sk-estimator {font-family: monospace;background-color: #f0f8ff;border: 1px dotted black;border-radius: 0.25em;box-sizing: border-box;margin-bottom: 0.5em;}#sk-container-id-2 div.sk-estimator:hover {background-color: #d4ebff;}#sk-container-id-2 div.sk-parallel-item::after {content: \"\";width: 100%;border-bottom: 1px solid gray;flex-grow: 1;}#sk-container-id-2 div.sk-label:hover label.sk-toggleable__label {background-color: #d4ebff;}#sk-container-id-2 div.sk-serial::before {content: \"\";position: absolute;border-left: 1px solid gray;box-sizing: border-box;top: 0;bottom: 0;left: 50%;z-index: 0;}#sk-container-id-2 div.sk-serial {display: flex;flex-direction: column;align-items: center;background-color: white;padding-right: 0.2em;padding-left: 0.2em;position: relative;}#sk-container-id-2 div.sk-item {position: relative;z-index: 1;}#sk-container-id-2 div.sk-parallel {display: flex;align-items: stretch;justify-content: center;background-color: white;position: relative;}#sk-container-id-2 div.sk-item::before, #sk-container-id-2 div.sk-parallel-item::before {content: \"\";position: absolute;border-left: 1px solid gray;box-sizing: border-box;top: 0;bottom: 0;left: 50%;z-index: -1;}#sk-container-id-2 div.sk-parallel-item {display: flex;flex-direction: column;z-index: 1;position: relative;background-color: white;}#sk-container-id-2 div.sk-parallel-item:first-child::after {align-self: flex-end;width: 50%;}#sk-container-id-2 div.sk-parallel-item:last-child::after {align-self: flex-start;width: 50%;}#sk-container-id-2 div.sk-parallel-item:only-child::after {width: 0;}#sk-container-id-2 div.sk-dashed-wrapped {border: 1px dashed gray;margin: 0 0.4em 0.5em 0.4em;box-sizing: border-box;padding-bottom: 0.4em;background-color: white;}#sk-container-id-2 div.sk-label label {font-family: monospace;font-weight: bold;display: inline-block;line-height: 1.2em;}#sk-container-id-2 div.sk-label-container {text-align: center;}#sk-container-id-2 div.sk-container {/* jupyter's `normalize.less` sets `[hidden] { display: none; }` but bootstrap.min.css set `[hidden] { display: none !important; }` so we also need the `!important` here to be able to override the default hidden behavior on the sphinx rendered scikit-learn.org. See: https://github.com/scikit-learn/scikit-learn/issues/21755 */display: inline-block !important;position: relative;}#sk-container-id-2 div.sk-text-repr-fallback {display: none;}</style><div id=\"sk-container-id-2\" class=\"sk-top-container\"><div class=\"sk-text-repr-fallback\"><pre>KNeighborsClassifier(n_neighbors=1)</pre><b>In a Jupyter environment, please rerun this cell to show the HTML representation or trust the notebook. <br />On GitHub, the HTML representation is unable to render, please try loading this page with nbviewer.org.</b></div><div class=\"sk-container\" hidden><div class=\"sk-item\"><div class=\"sk-estimator sk-toggleable\"><input class=\"sk-toggleable__control sk-hidden--visually\" id=\"sk-estimator-id-4\" type=\"checkbox\" checked><label for=\"sk-estimator-id-4\" class=\"sk-toggleable__label sk-toggleable__label-arrow\">KNeighborsClassifier</label><div class=\"sk-toggleable__content\"><pre>KNeighborsClassifier(n_neighbors=1)</pre></div></div></div></div></div>"
      ],
      "text/plain": [
       "KNeighborsClassifier(n_neighbors=1)"
      ]
     },
     "execution_count": 29,
     "metadata": {},
     "output_type": "execute_result"
    }
   ],
   "source": [
    "kneighbors.best_estimator_"
   ]
  },
  {
   "cell_type": "code",
   "execution_count": 30,
   "id": "a35d28cc",
   "metadata": {},
   "outputs": [
    {
     "data": {
      "text/html": [
       "<div>\n",
       "<style scoped>\n",
       "    .dataframe tbody tr th:only-of-type {\n",
       "        vertical-align: middle;\n",
       "    }\n",
       "\n",
       "    .dataframe tbody tr th {\n",
       "        vertical-align: top;\n",
       "    }\n",
       "\n",
       "    .dataframe thead th {\n",
       "        text-align: right;\n",
       "    }\n",
       "</style>\n",
       "<table border=\"1\" class=\"dataframe\">\n",
       "  <thead>\n",
       "    <tr style=\"text-align: right;\">\n",
       "      <th></th>\n",
       "      <th>parameters</th>\n",
       "      <th>accuracy</th>\n",
       "    </tr>\n",
       "  </thead>\n",
       "  <tbody>\n",
       "    <tr>\n",
       "      <th>0</th>\n",
       "      <td>{'n_neighbors': 1, 'p': 1}</td>\n",
       "      <td>0.936081</td>\n",
       "    </tr>\n",
       "    <tr>\n",
       "      <th>1</th>\n",
       "      <td>{'n_neighbors': 1, 'p': 2}</td>\n",
       "      <td>0.938861</td>\n",
       "    </tr>\n",
       "    <tr>\n",
       "      <th>2</th>\n",
       "      <td>{'n_neighbors': 3, 'p': 1}</td>\n",
       "      <td>0.913847</td>\n",
       "    </tr>\n",
       "    <tr>\n",
       "      <th>3</th>\n",
       "      <td>{'n_neighbors': 3, 'p': 2}</td>\n",
       "      <td>0.916878</td>\n",
       "    </tr>\n",
       "    <tr>\n",
       "      <th>4</th>\n",
       "      <td>{'n_neighbors': 5, 'p': 1}</td>\n",
       "      <td>0.903741</td>\n",
       "    </tr>\n",
       "    <tr>\n",
       "      <th>5</th>\n",
       "      <td>{'n_neighbors': 5, 'p': 2}</td>\n",
       "      <td>0.905256</td>\n",
       "    </tr>\n",
       "    <tr>\n",
       "      <th>6</th>\n",
       "      <td>{'n_neighbors': 7, 'p': 1}</td>\n",
       "      <td>0.893128</td>\n",
       "    </tr>\n",
       "    <tr>\n",
       "      <th>7</th>\n",
       "      <td>{'n_neighbors': 7, 'p': 2}</td>\n",
       "      <td>0.895402</td>\n",
       "    </tr>\n",
       "    <tr>\n",
       "      <th>8</th>\n",
       "      <td>{'n_neighbors': 9, 'p': 1}</td>\n",
       "      <td>0.886559</td>\n",
       "    </tr>\n",
       "    <tr>\n",
       "      <th>9</th>\n",
       "      <td>{'n_neighbors': 9, 'p': 2}</td>\n",
       "      <td>0.888833</td>\n",
       "    </tr>\n",
       "    <tr>\n",
       "      <th>10</th>\n",
       "      <td>{'n_neighbors': 11, 'p': 1}</td>\n",
       "      <td>0.882516</td>\n",
       "    </tr>\n",
       "    <tr>\n",
       "      <th>11</th>\n",
       "      <td>{'n_neighbors': 11, 'p': 2}</td>\n",
       "      <td>0.883022</td>\n",
       "    </tr>\n",
       "  </tbody>\n",
       "</table>\n",
       "</div>"
      ],
      "text/plain": [
       "                     parameters  accuracy\n",
       "0    {'n_neighbors': 1, 'p': 1}  0.936081\n",
       "1    {'n_neighbors': 1, 'p': 2}  0.938861\n",
       "2    {'n_neighbors': 3, 'p': 1}  0.913847\n",
       "3    {'n_neighbors': 3, 'p': 2}  0.916878\n",
       "4    {'n_neighbors': 5, 'p': 1}  0.903741\n",
       "5    {'n_neighbors': 5, 'p': 2}  0.905256\n",
       "6    {'n_neighbors': 7, 'p': 1}  0.893128\n",
       "7    {'n_neighbors': 7, 'p': 2}  0.895402\n",
       "8    {'n_neighbors': 9, 'p': 1}  0.886559\n",
       "9    {'n_neighbors': 9, 'p': 2}  0.888833\n",
       "10  {'n_neighbors': 11, 'p': 1}  0.882516\n",
       "11  {'n_neighbors': 11, 'p': 2}  0.883022"
      ]
     },
     "execution_count": 30,
     "metadata": {},
     "output_type": "execute_result"
    }
   ],
   "source": [
    "KNeighborparameter = pd.DataFrame({'parameters': kneighbors.cv_results_[\"params\"], 'accuracy': kneighbors.cv_results_[\"mean_test_score\"]})\n",
    "KNeighborparameter"
   ]
  },
  {
   "cell_type": "markdown",
   "id": "47e5ea71",
   "metadata": {},
   "source": [
    "according to this N = 1 and P = 2 result is the best parameters"
   ]
  },
  {
   "cell_type": "code",
   "execution_count": 31,
   "id": "dbee25eb",
   "metadata": {},
   "outputs": [],
   "source": [
    "results = pd.DataFrame()"
   ]
  },
  {
   "cell_type": "code",
   "execution_count": 32,
   "id": "250151df",
   "metadata": {},
   "outputs": [],
   "source": [
    "predicted_knn = kneighbors.predict(X_test)"
   ]
  },
  {
   "cell_type": "code",
   "execution_count": 33,
   "id": "7debb018",
   "metadata": {},
   "outputs": [
    {
     "data": {
      "text/plain": [
       "<sklearn.metrics._plot.confusion_matrix.ConfusionMatrixDisplay at 0x1697ba580>"
      ]
     },
     "execution_count": 33,
     "metadata": {},
     "output_type": "execute_result"
    },
    {
     "data": {
      "image/png": "[encoded data removed]",
      "text/plain": [
       "<Figure size 640x480 with 2 Axes>"
      ]
     },
     "metadata": {},
     "output_type": "display_data"
    }
   ],
   "source": [
    "cm = confusion_matrix(y_test, predicted_knn, labels=kneighbors.classes_)\n",
    "disp = ConfusionMatrixDisplay(confusion_matrix=cm, display_labels=kneighbors.classes_)\n",
    "disp.plot()"
   ]
  },
  {
   "cell_type": "markdown",
   "id": "c4eb4a3c",
   "metadata": {},
   "source": [
    "#### Accuracy"
   ]
  },
  {
   "cell_type": "code",
   "execution_count": 34,
   "id": "e9f90550",
   "metadata": {},
   "outputs": [
    {
     "name": "stdout",
     "output_type": "stream",
     "text": [
      "0.9484848484848485\n"
     ]
    }
   ],
   "source": [
    "results.loc['kneighbors','Accuracy']=accuracy_score(y_test,predicted_knn) \n",
    "\n",
    "print(results.loc['kneighbors','Accuracy']) "
   ]
  },
  {
   "cell_type": "markdown",
   "id": "789e8c36",
   "metadata": {},
   "source": [
    "#### Balanced Accuracy"
   ]
  },
  {
   "cell_type": "code",
   "execution_count": 35,
   "id": "d7d4473d",
   "metadata": {},
   "outputs": [
    {
     "name": "stdout",
     "output_type": "stream",
     "text": [
      "0.7801724137931034\n"
     ]
    }
   ],
   "source": [
    "results.loc['kneighbors','Balanced Accuracy']=balanced_accuracy_score(y_test,predicted_knn) \n",
    "\n",
    "print(results.loc['kneighbors','Balanced Accuracy']) "
   ]
  },
  {
   "cell_type": "markdown",
   "id": "fdeaaf30",
   "metadata": {},
   "source": [
    "#### Training Time in Seconds (s)"
   ]
  },
  {
   "cell_type": "code",
   "execution_count": 36,
   "id": "adf05772",
   "metadata": {},
   "outputs": [
    {
     "name": "stdout",
     "output_type": "stream",
     "text": [
      "0.0028375665346781413\n"
     ]
    }
   ],
   "source": [
    "results.loc['kneighbors','Training Time']=kneighbors.cv_results_['mean_fit_time'].mean() \n",
    "\n",
    "print(results.loc['kneighbors','Training Time']) "
   ]
  },
  {
   "cell_type": "markdown",
   "id": "beecbaad",
   "metadata": {},
   "source": [
    "#### Prediction Time (s) per sms"
   ]
  },
  {
   "cell_type": "code",
   "execution_count": 37,
   "id": "73cd18ed",
   "metadata": {},
   "outputs": [
    {
     "name": "stdout",
     "output_type": "stream",
     "text": [
      "0.00012047559725315081\n"
     ]
    }
   ],
   "source": [
    "results.loc['kneighbors','Prediction Time']=kneighbors.cv_results_['mean_score_time'].mean()/len(y_test) \n",
    "\n",
    "print(results.loc['kneighbors','Prediction Time']) "
   ]
  },
  {
   "cell_type": "markdown",
   "id": "307418a0",
   "metadata": {},
   "source": [
    "## KNN SMOTE"
   ]
  },
  {
   "cell_type": "code",
   "execution_count": 38,
   "id": "c702b430",
   "metadata": {},
   "outputs": [
    {
     "data": {
      "text/html": [
       "<style>#sk-container-id-3 {color: black;background-color: white;}#sk-container-id-3 pre{padding: 0;}#sk-container-id-3 div.sk-toggleable {background-color: white;}#sk-container-id-3 label.sk-toggleable__label {cursor: pointer;display: block;width: 100%;margin-bottom: 0;padding: 0.3em;box-sizing: border-box;text-align: center;}#sk-container-id-3 label.sk-toggleable__label-arrow:before {content: \"▸\";float: left;margin-right: 0.25em;color: #696969;}#sk-container-id-3 label.sk-toggleable__label-arrow:hover:before {color: black;}#sk-container-id-3 div.sk-estimator:hover label.sk-toggleable__label-arrow:before {color: black;}#sk-container-id-3 div.sk-toggleable__content {max-height: 0;max-width: 0;overflow: hidden;text-align: left;background-color: #f0f8ff;}#sk-container-id-3 div.sk-toggleable__content pre {margin: 0.2em;color: black;border-radius: 0.25em;background-color: #f0f8ff;}#sk-container-id-3 input.sk-toggleable__control:checked~div.sk-toggleable__content {max-height: 200px;max-width: 100%;overflow: auto;}#sk-container-id-3 input.sk-toggleable__control:checked~label.sk-toggleable__label-arrow:before {content: \"▾\";}#sk-container-id-3 div.sk-estimator input.sk-toggleable__control:checked~label.sk-toggleable__label {background-color: #d4ebff;}#sk-container-id-3 div.sk-label input.sk-toggleable__control:checked~label.sk-toggleable__label {background-color: #d4ebff;}#sk-container-id-3 input.sk-hidden--visually {border: 0;clip: rect(1px 1px 1px 1px);clip: rect(1px, 1px, 1px, 1px);height: 1px;margin: -1px;overflow: hidden;padding: 0;position: absolute;width: 1px;}#sk-container-id-3 div.sk-estimator {font-family: monospace;background-color: #f0f8ff;border: 1px dotted black;border-radius: 0.25em;box-sizing: border-box;margin-bottom: 0.5em;}#sk-container-id-3 div.sk-estimator:hover {background-color: #d4ebff;}#sk-container-id-3 div.sk-parallel-item::after {content: \"\";width: 100%;border-bottom: 1px solid gray;flex-grow: 1;}#sk-container-id-3 div.sk-label:hover label.sk-toggleable__label {background-color: #d4ebff;}#sk-container-id-3 div.sk-serial::before {content: \"\";position: absolute;border-left: 1px solid gray;box-sizing: border-box;top: 0;bottom: 0;left: 50%;z-index: 0;}#sk-container-id-3 div.sk-serial {display: flex;flex-direction: column;align-items: center;background-color: white;padding-right: 0.2em;padding-left: 0.2em;position: relative;}#sk-container-id-3 div.sk-item {position: relative;z-index: 1;}#sk-container-id-3 div.sk-parallel {display: flex;align-items: stretch;justify-content: center;background-color: white;position: relative;}#sk-container-id-3 div.sk-item::before, #sk-container-id-3 div.sk-parallel-item::before {content: \"\";position: absolute;border-left: 1px solid gray;box-sizing: border-box;top: 0;bottom: 0;left: 50%;z-index: -1;}#sk-container-id-3 div.sk-parallel-item {display: flex;flex-direction: column;z-index: 1;position: relative;background-color: white;}#sk-container-id-3 div.sk-parallel-item:first-child::after {align-self: flex-end;width: 50%;}#sk-container-id-3 div.sk-parallel-item:last-child::after {align-self: flex-start;width: 50%;}#sk-container-id-3 div.sk-parallel-item:only-child::after {width: 0;}#sk-container-id-3 div.sk-dashed-wrapped {border: 1px dashed gray;margin: 0 0.4em 0.5em 0.4em;box-sizing: border-box;padding-bottom: 0.4em;background-color: white;}#sk-container-id-3 div.sk-label label {font-family: monospace;font-weight: bold;display: inline-block;line-height: 1.2em;}#sk-container-id-3 div.sk-label-container {text-align: center;}#sk-container-id-3 div.sk-container {/* jupyter's `normalize.less` sets `[hidden] { display: none; }` but bootstrap.min.css set `[hidden] { display: none !important; }` so we also need the `!important` here to be able to override the default hidden behavior on the sphinx rendered scikit-learn.org. See: https://github.com/scikit-learn/scikit-learn/issues/21755 */display: inline-block !important;position: relative;}#sk-container-id-3 div.sk-text-repr-fallback {display: none;}</style><div id=\"sk-container-id-3\" class=\"sk-top-container\"><div class=\"sk-text-repr-fallback\"><pre>GridSearchCV(estimator=KNeighborsClassifier(), n_jobs=-1,\n",
       "             param_grid={&#x27;n_neighbors&#x27;: [1, 3, 5, 7, 9, 11], &#x27;p&#x27;: [1, 2]},\n",
       "             scoring=&#x27;accuracy&#x27;)</pre><b>In a Jupyter environment, please rerun this cell to show the HTML representation or trust the notebook. <br />On GitHub, the HTML representation is unable to render, please try loading this page with nbviewer.org.</b></div><div class=\"sk-container\" hidden><div class=\"sk-item sk-dashed-wrapped\"><div class=\"sk-label-container\"><div class=\"sk-label sk-toggleable\"><input class=\"sk-toggleable__control sk-hidden--visually\" id=\"sk-estimator-id-5\" type=\"checkbox\" ><label for=\"sk-estimator-id-5\" class=\"sk-toggleable__label sk-toggleable__label-arrow\">GridSearchCV</label><div class=\"sk-toggleable__content\"><pre>GridSearchCV(estimator=KNeighborsClassifier(), n_jobs=-1,\n",
       "             param_grid={&#x27;n_neighbors&#x27;: [1, 3, 5, 7, 9, 11], &#x27;p&#x27;: [1, 2]},\n",
       "             scoring=&#x27;accuracy&#x27;)</pre></div></div></div><div class=\"sk-parallel\"><div class=\"sk-parallel-item\"><div class=\"sk-item\"><div class=\"sk-label-container\"><div class=\"sk-label sk-toggleable\"><input class=\"sk-toggleable__control sk-hidden--visually\" id=\"sk-estimator-id-6\" type=\"checkbox\" ><label for=\"sk-estimator-id-6\" class=\"sk-toggleable__label sk-toggleable__label-arrow\">estimator: KNeighborsClassifier</label><div class=\"sk-toggleable__content\"><pre>KNeighborsClassifier()</pre></div></div></div><div class=\"sk-serial\"><div class=\"sk-item\"><div class=\"sk-estimator sk-toggleable\"><input class=\"sk-toggleable__control sk-hidden--visually\" id=\"sk-estimator-id-7\" type=\"checkbox\" ><label for=\"sk-estimator-id-7\" class=\"sk-toggleable__label sk-toggleable__label-arrow\">KNeighborsClassifier</label><div class=\"sk-toggleable__content\"><pre>KNeighborsClassifier()</pre></div></div></div></div></div></div></div></div></div></div>"
      ],
      "text/plain": [
       "GridSearchCV(estimator=KNeighborsClassifier(), n_jobs=-1,\n",
       "             param_grid={'n_neighbors': [1, 3, 5, 7, 9, 11], 'p': [1, 2]},\n",
       "             scoring='accuracy')"
      ]
     },
     "execution_count": 38,
     "metadata": {},
     "output_type": "execute_result"
    }
   ],
   "source": [
    "#setting up the parameters for the SMOTE KNN learning trials.\n",
    "KNNSMOTE = GridSearchCV(KNN, hyperparametersforKNN, scoring ='accuracy', refit = True, n_jobs=-1)\n",
    "KNNSMOTE.fit(X_train_smote, y_train_smote)"
   ]
  },
  {
   "cell_type": "code",
   "execution_count": 39,
   "id": "e72b6dfd",
   "metadata": {},
   "outputs": [
    {
     "data": {
      "text/html": [
       "<div>\n",
       "<style scoped>\n",
       "    .dataframe tbody tr th:only-of-type {\n",
       "        vertical-align: middle;\n",
       "    }\n",
       "\n",
       "    .dataframe tbody tr th {\n",
       "        vertical-align: top;\n",
       "    }\n",
       "\n",
       "    .dataframe thead th {\n",
       "        text-align: right;\n",
       "    }\n",
       "</style>\n",
       "<table border=\"1\" class=\"dataframe\">\n",
       "  <thead>\n",
       "    <tr style=\"text-align: right;\">\n",
       "      <th></th>\n",
       "      <th>mean_fit_time</th>\n",
       "      <th>std_fit_time</th>\n",
       "      <th>mean_score_time</th>\n",
       "      <th>std_score_time</th>\n",
       "      <th>param_n_neighbors</th>\n",
       "      <th>param_p</th>\n",
       "      <th>params</th>\n",
       "      <th>split0_test_score</th>\n",
       "      <th>split1_test_score</th>\n",
       "      <th>split2_test_score</th>\n",
       "      <th>split3_test_score</th>\n",
       "      <th>split4_test_score</th>\n",
       "      <th>mean_test_score</th>\n",
       "      <th>std_test_score</th>\n",
       "      <th>rank_test_score</th>\n",
       "    </tr>\n",
       "  </thead>\n",
       "  <tbody>\n",
       "    <tr>\n",
       "      <th>0</th>\n",
       "      <td>0.003697</td>\n",
       "      <td>0.001816</td>\n",
       "      <td>0.913983</td>\n",
       "      <td>0.078656</td>\n",
       "      <td>1</td>\n",
       "      <td>1</td>\n",
       "      <td>{'n_neighbors': 1, 'p': 1}</td>\n",
       "      <td>0.863211</td>\n",
       "      <td>0.770338</td>\n",
       "      <td>0.813535</td>\n",
       "      <td>0.785457</td>\n",
       "      <td>0.782421</td>\n",
       "      <td>0.802992</td>\n",
       "      <td>0.033270</td>\n",
       "      <td>2</td>\n",
       "    </tr>\n",
       "    <tr>\n",
       "      <th>1</th>\n",
       "      <td>0.002439</td>\n",
       "      <td>0.002064</td>\n",
       "      <td>0.136608</td>\n",
       "      <td>0.015844</td>\n",
       "      <td>1</td>\n",
       "      <td>2</td>\n",
       "      <td>{'n_neighbors': 1, 'p': 2}</td>\n",
       "      <td>0.868970</td>\n",
       "      <td>0.772498</td>\n",
       "      <td>0.811375</td>\n",
       "      <td>0.784017</td>\n",
       "      <td>0.782421</td>\n",
       "      <td>0.803856</td>\n",
       "      <td>0.035022</td>\n",
       "      <td>1</td>\n",
       "    </tr>\n",
       "    <tr>\n",
       "      <th>2</th>\n",
       "      <td>0.001920</td>\n",
       "      <td>0.000802</td>\n",
       "      <td>0.991279</td>\n",
       "      <td>0.084201</td>\n",
       "      <td>3</td>\n",
       "      <td>1</td>\n",
       "      <td>{'n_neighbors': 3, 'p': 1}</td>\n",
       "      <td>0.838733</td>\n",
       "      <td>0.737221</td>\n",
       "      <td>0.790497</td>\n",
       "      <td>0.760259</td>\n",
       "      <td>0.754323</td>\n",
       "      <td>0.776207</td>\n",
       "      <td>0.035684</td>\n",
       "      <td>4</td>\n",
       "    </tr>\n",
       "    <tr>\n",
       "      <th>3</th>\n",
       "      <td>0.001834</td>\n",
       "      <td>0.000911</td>\n",
       "      <td>0.201882</td>\n",
       "      <td>0.013975</td>\n",
       "      <td>3</td>\n",
       "      <td>2</td>\n",
       "      <td>{'n_neighbors': 3, 'p': 2}</td>\n",
       "      <td>0.842333</td>\n",
       "      <td>0.741541</td>\n",
       "      <td>0.789777</td>\n",
       "      <td>0.758099</td>\n",
       "      <td>0.757925</td>\n",
       "      <td>0.777935</td>\n",
       "      <td>0.035793</td>\n",
       "      <td>3</td>\n",
       "    </tr>\n",
       "    <tr>\n",
       "      <th>4</th>\n",
       "      <td>0.001502</td>\n",
       "      <td>0.000113</td>\n",
       "      <td>0.779834</td>\n",
       "      <td>0.043423</td>\n",
       "      <td>5</td>\n",
       "      <td>1</td>\n",
       "      <td>{'n_neighbors': 5, 'p': 1}</td>\n",
       "      <td>0.622030</td>\n",
       "      <td>0.601872</td>\n",
       "      <td>0.624190</td>\n",
       "      <td>0.627790</td>\n",
       "      <td>0.627522</td>\n",
       "      <td>0.620681</td>\n",
       "      <td>0.009646</td>\n",
       "      <td>6</td>\n",
       "    </tr>\n",
       "    <tr>\n",
       "      <th>5</th>\n",
       "      <td>0.001345</td>\n",
       "      <td>0.000146</td>\n",
       "      <td>0.110781</td>\n",
       "      <td>0.022449</td>\n",
       "      <td>5</td>\n",
       "      <td>2</td>\n",
       "      <td>{'n_neighbors': 5, 'p': 2}</td>\n",
       "      <td>0.652268</td>\n",
       "      <td>0.624910</td>\n",
       "      <td>0.648668</td>\n",
       "      <td>0.631389</td>\n",
       "      <td>0.654179</td>\n",
       "      <td>0.642283</td>\n",
       "      <td>0.011853</td>\n",
       "      <td>5</td>\n",
       "    </tr>\n",
       "    <tr>\n",
       "      <th>6</th>\n",
       "      <td>0.002437</td>\n",
       "      <td>0.000866</td>\n",
       "      <td>0.871162</td>\n",
       "      <td>0.074651</td>\n",
       "      <td>7</td>\n",
       "      <td>1</td>\n",
       "      <td>{'n_neighbors': 7, 'p': 1}</td>\n",
       "      <td>0.582433</td>\n",
       "      <td>0.576674</td>\n",
       "      <td>0.596112</td>\n",
       "      <td>0.593233</td>\n",
       "      <td>0.586455</td>\n",
       "      <td>0.586981</td>\n",
       "      <td>0.007066</td>\n",
       "      <td>9</td>\n",
       "    </tr>\n",
       "    <tr>\n",
       "      <th>7</th>\n",
       "      <td>0.001948</td>\n",
       "      <td>0.001039</td>\n",
       "      <td>0.123060</td>\n",
       "      <td>0.023227</td>\n",
       "      <td>7</td>\n",
       "      <td>2</td>\n",
       "      <td>{'n_neighbors': 7, 'p': 2}</td>\n",
       "      <td>0.611951</td>\n",
       "      <td>0.602592</td>\n",
       "      <td>0.622030</td>\n",
       "      <td>0.604752</td>\n",
       "      <td>0.621758</td>\n",
       "      <td>0.612617</td>\n",
       "      <td>0.008185</td>\n",
       "      <td>7</td>\n",
       "    </tr>\n",
       "    <tr>\n",
       "      <th>8</th>\n",
       "      <td>0.002801</td>\n",
       "      <td>0.001991</td>\n",
       "      <td>0.838039</td>\n",
       "      <td>0.083808</td>\n",
       "      <td>9</td>\n",
       "      <td>1</td>\n",
       "      <td>{'n_neighbors': 9, 'p': 1}</td>\n",
       "      <td>0.556515</td>\n",
       "      <td>0.561555</td>\n",
       "      <td>0.568754</td>\n",
       "      <td>0.565875</td>\n",
       "      <td>0.565562</td>\n",
       "      <td>0.563652</td>\n",
       "      <td>0.004241</td>\n",
       "      <td>11</td>\n",
       "    </tr>\n",
       "    <tr>\n",
       "      <th>9</th>\n",
       "      <td>0.001354</td>\n",
       "      <td>0.000110</td>\n",
       "      <td>0.120255</td>\n",
       "      <td>0.015143</td>\n",
       "      <td>9</td>\n",
       "      <td>2</td>\n",
       "      <td>{'n_neighbors': 9, 'p': 2}</td>\n",
       "      <td>0.584593</td>\n",
       "      <td>0.582433</td>\n",
       "      <td>0.599712</td>\n",
       "      <td>0.586033</td>\n",
       "      <td>0.603746</td>\n",
       "      <td>0.591304</td>\n",
       "      <td>0.008683</td>\n",
       "      <td>8</td>\n",
       "    </tr>\n",
       "    <tr>\n",
       "      <th>10</th>\n",
       "      <td>0.001663</td>\n",
       "      <td>0.000546</td>\n",
       "      <td>0.741303</td>\n",
       "      <td>0.047390</td>\n",
       "      <td>11</td>\n",
       "      <td>1</td>\n",
       "      <td>{'n_neighbors': 11, 'p': 1}</td>\n",
       "      <td>0.542117</td>\n",
       "      <td>0.542117</td>\n",
       "      <td>0.555076</td>\n",
       "      <td>0.552916</td>\n",
       "      <td>0.548271</td>\n",
       "      <td>0.548099</td>\n",
       "      <td>0.005357</td>\n",
       "      <td>12</td>\n",
       "    </tr>\n",
       "    <tr>\n",
       "      <th>11</th>\n",
       "      <td>0.001432</td>\n",
       "      <td>0.000065</td>\n",
       "      <td>0.107543</td>\n",
       "      <td>0.021162</td>\n",
       "      <td>11</td>\n",
       "      <td>2</td>\n",
       "      <td>{'n_neighbors': 11, 'p': 2}</td>\n",
       "      <td>0.573794</td>\n",
       "      <td>0.575234</td>\n",
       "      <td>0.588193</td>\n",
       "      <td>0.568754</td>\n",
       "      <td>0.577810</td>\n",
       "      <td>0.576757</td>\n",
       "      <td>0.006435</td>\n",
       "      <td>10</td>\n",
       "    </tr>\n",
       "  </tbody>\n",
       "</table>\n",
       "</div>"
      ],
      "text/plain": [
       "    mean_fit_time  std_fit_time  mean_score_time  std_score_time  \\\n",
       "0        0.003697      0.001816         0.913983        0.078656   \n",
       "1        0.002439      0.002064         0.136608        0.015844   \n",
       "2        0.001920      0.000802         0.991279        0.084201   \n",
       "3        0.001834      0.000911         0.201882        0.013975   \n",
       "4        0.001502      0.000113         0.779834        0.043423   \n",
       "5        0.001345      0.000146         0.110781        0.022449   \n",
       "6        0.002437      0.000866         0.871162        0.074651   \n",
       "7        0.001948      0.001039         0.123060        0.023227   \n",
       "8        0.002801      0.001991         0.838039        0.083808   \n",
       "9        0.001354      0.000110         0.120255        0.015143   \n",
       "10       0.001663      0.000546         0.741303        0.047390   \n",
       "11       0.001432      0.000065         0.107543        0.021162   \n",
       "\n",
       "   param_n_neighbors param_p                       params  split0_test_score  \\\n",
       "0                  1       1   {'n_neighbors': 1, 'p': 1}           0.863211   \n",
       "1                  1       2   {'n_neighbors': 1, 'p': 2}           0.868970   \n",
       "2                  3       1   {'n_neighbors': 3, 'p': 1}           0.838733   \n",
       "3                  3       2   {'n_neighbors': 3, 'p': 2}           0.842333   \n",
       "4                  5       1   {'n_neighbors': 5, 'p': 1}           0.622030   \n",
       "5                  5       2   {'n_neighbors': 5, 'p': 2}           0.652268   \n",
       "6                  7       1   {'n_neighbors': 7, 'p': 1}           0.582433   \n",
       "7                  7       2   {'n_neighbors': 7, 'p': 2}           0.611951   \n",
       "8                  9       1   {'n_neighbors': 9, 'p': 1}           0.556515   \n",
       "9                  9       2   {'n_neighbors': 9, 'p': 2}           0.584593   \n",
       "10                11       1  {'n_neighbors': 11, 'p': 1}           0.542117   \n",
       "11                11       2  {'n_neighbors': 11, 'p': 2}           0.573794   \n",
       "\n",
       "    split1_test_score  split2_test_score  split3_test_score  \\\n",
       "0            0.770338           0.813535           0.785457   \n",
       "1            0.772498           0.811375           0.784017   \n",
       "2            0.737221           0.790497           0.760259   \n",
       "3            0.741541           0.789777           0.758099   \n",
       "4            0.601872           0.624190           0.627790   \n",
       "5            0.624910           0.648668           0.631389   \n",
       "6            0.576674           0.596112           0.593233   \n",
       "7            0.602592           0.622030           0.604752   \n",
       "8            0.561555           0.568754           0.565875   \n",
       "9            0.582433           0.599712           0.586033   \n",
       "10           0.542117           0.555076           0.552916   \n",
       "11           0.575234           0.588193           0.568754   \n",
       "\n",
       "    split4_test_score  mean_test_score  std_test_score  rank_test_score  \n",
       "0            0.782421         0.802992        0.033270                2  \n",
       "1            0.782421         0.803856        0.035022                1  \n",
       "2            0.754323         0.776207        0.035684                4  \n",
       "3            0.757925         0.777935        0.035793                3  \n",
       "4            0.627522         0.620681        0.009646                6  \n",
       "5            0.654179         0.642283        0.011853                5  \n",
       "6            0.586455         0.586981        0.007066                9  \n",
       "7            0.621758         0.612617        0.008185                7  \n",
       "8            0.565562         0.563652        0.004241               11  \n",
       "9            0.603746         0.591304        0.008683                8  \n",
       "10           0.548271         0.548099        0.005357               12  \n",
       "11           0.577810         0.576757        0.006435               10  "
      ]
     },
     "execution_count": 39,
     "metadata": {},
     "output_type": "execute_result"
    }
   ],
   "source": [
    "KNNSMOTEresults = pd.DataFrame(KNNSMOTE.cv_results_)\n",
    "KNNSMOTEresults"
   ]
  },
  {
   "cell_type": "code",
   "execution_count": 40,
   "id": "e1731f3d",
   "metadata": {},
   "outputs": [],
   "source": [
    "predictedSMOTEKNN = KNNSMOTE.predict(X_test)"
   ]
  },
  {
   "cell_type": "markdown",
   "id": "47eb8c8d",
   "metadata": {},
   "source": [
    "#### Confusion Matrix"
   ]
  },
  {
   "cell_type": "code",
   "execution_count": 75,
   "id": "5b33537b",
   "metadata": {},
   "outputs": [
    {
     "data": {
      "text/plain": [
       "Text(0.5, 1.0, 'KNN with SMOTE')"
      ]
     },
     "execution_count": 75,
     "metadata": {},
     "output_type": "execute_result"
    },
    {
     "data": {
      "image/png": "[encoded data removed]",
      "text/plain": [
       "<Figure size 640x480 with 2 Axes>"
      ]
     },
     "metadata": {},
     "output_type": "display_data"
    }
   ],
   "source": [
    "cm = confusion_matrix(y_test, predictedSMOTEKNN, labels=kneighbors.classes_) \n",
    "disp2 = ConfusionMatrixDisplay(confusion_matrix=cm, display_labels=kneighbors.classes_) \n",
    "disp2.plot() \n",
    "plt.title(\"KNN with SMOTE\")"
   ]
  },
  {
   "cell_type": "markdown",
   "id": "ab10cab1",
   "metadata": {},
   "source": [
    "#### Accuracy"
   ]
  },
  {
   "cell_type": "code",
   "execution_count": 76,
   "id": "438faa5b",
   "metadata": {},
   "outputs": [
    {
     "name": "stdout",
     "output_type": "stream",
     "text": [
      "0.9212121212121213\n"
     ]
    }
   ],
   "source": [
    "results.loc['KNNSMOTE','Accuracy']=accuracy_score(y_test,predictedSMOTEKNN) \n",
    "\n",
    "print(results.loc['KNNSMOTE','Accuracy']) "
   ]
  },
  {
   "cell_type": "markdown",
   "id": "a0ffc170",
   "metadata": {},
   "source": [
    "#### Balanced Accuracy"
   ]
  },
  {
   "cell_type": "code",
   "execution_count": 77,
   "id": "6e36ec58",
   "metadata": {},
   "outputs": [
    {
     "name": "stdout",
     "output_type": "stream",
     "text": [
      "0.8507062258344511\n"
     ]
    }
   ],
   "source": [
    "results.loc['KNNSMOTE','Balanced Accuracy']=balanced_accuracy_score(y_test,predictedSMOTEKNN) \n",
    "\n",
    "print(results.loc['KNNSMOTE','Balanced Accuracy']) "
   ]
  },
  {
   "cell_type": "markdown",
   "id": "bd3836d5",
   "metadata": {},
   "source": [
    "#### Training Time (s)"
   ]
  },
  {
   "cell_type": "code",
   "execution_count": 78,
   "id": "718a7fa8",
   "metadata": {},
   "outputs": [
    {
     "name": "stdout",
     "output_type": "stream",
     "text": [
      "0.0028375665346781413\n"
     ]
    }
   ],
   "source": [
    "results.loc['KNNSMOTE','Training Time']=kneighbors.cv_results_['mean_fit_time'].mean() \n",
    "\n",
    "print(results.loc['KNNSMOTE','Training Time']) "
   ]
  },
  {
   "cell_type": "markdown",
   "id": "aafade6c",
   "metadata": {},
   "source": [
    "#### Prediction Time (s) per sms"
   ]
  },
  {
   "cell_type": "code",
   "execution_count": 79,
   "id": "ed5549fe",
   "metadata": {},
   "outputs": [
    {
     "name": "stdout",
     "output_type": "stream",
     "text": [
      "0.00012047559725315081\n"
     ]
    }
   ],
   "source": [
    "results.loc['KNNSMOTE','Prediction Time']=kneighbors.cv_results_['mean_score_time'].mean()/len(y_test) \n",
    "\n",
    "print(results.loc['KNNSMOTE','Prediction Time']) "
   ]
  },
  {
   "cell_type": "markdown",
   "id": "035c846b",
   "metadata": {},
   "source": [
    "# Decision Tree Analysis"
   ]
  },
  {
   "cell_type": "code",
   "execution_count": 80,
   "id": "4a299460",
   "metadata": {},
   "outputs": [],
   "source": [
    "tree = DecisionTreeClassifier()"
   ]
  },
  {
   "cell_type": "code",
   "execution_count": 81,
   "id": "73804082",
   "metadata": {},
   "outputs": [],
   "source": [
    "treeparam = {\n",
    "    'min_samples_split': [2, 3, 5],\n",
    "    'min_samples_leaf':[5, 10, 20, 50, 100],\n",
    "    'max_depth':[2, 3, 5, 10, 20]}"
   ]
  },
  {
   "cell_type": "code",
   "execution_count": 82,
   "id": "131ffad2",
   "metadata": {},
   "outputs": [],
   "source": [
    "tree = GridSearchCV(tree, treeparam, scoring = 'accuracy')"
   ]
  },
  {
   "cell_type": "code",
   "execution_count": 83,
   "id": "b4436256",
   "metadata": {},
   "outputs": [
    {
     "data": {
      "text/html": [
       "<div>\n",
       "<style scoped>\n",
       "    .dataframe tbody tr th:only-of-type {\n",
       "        vertical-align: middle;\n",
       "    }\n",
       "\n",
       "    .dataframe tbody tr th {\n",
       "        vertical-align: top;\n",
       "    }\n",
       "\n",
       "    .dataframe thead th {\n",
       "        text-align: right;\n",
       "    }\n",
       "</style>\n",
       "<table border=\"1\" class=\"dataframe\">\n",
       "  <thead>\n",
       "    <tr style=\"text-align: right;\">\n",
       "      <th></th>\n",
       "      <th>mean_fit_time</th>\n",
       "      <th>std_fit_time</th>\n",
       "      <th>mean_score_time</th>\n",
       "      <th>std_score_time</th>\n",
       "      <th>param_max_depth</th>\n",
       "      <th>param_min_samples_leaf</th>\n",
       "      <th>param_min_samples_split</th>\n",
       "      <th>params</th>\n",
       "      <th>split0_test_score</th>\n",
       "      <th>split1_test_score</th>\n",
       "      <th>split2_test_score</th>\n",
       "      <th>split3_test_score</th>\n",
       "      <th>split4_test_score</th>\n",
       "      <th>mean_test_score</th>\n",
       "      <th>std_test_score</th>\n",
       "      <th>rank_test_score</th>\n",
       "    </tr>\n",
       "  </thead>\n",
       "  <tbody>\n",
       "    <tr>\n",
       "      <th>0</th>\n",
       "      <td>0.025295</td>\n",
       "      <td>0.003462</td>\n",
       "      <td>0.000656</td>\n",
       "      <td>0.000046</td>\n",
       "      <td>2</td>\n",
       "      <td>5</td>\n",
       "      <td>2</td>\n",
       "      <td>{'max_depth': 2, 'min_samples_leaf': 5, 'min_s...</td>\n",
       "      <td>0.916667</td>\n",
       "      <td>0.919192</td>\n",
       "      <td>0.917929</td>\n",
       "      <td>0.916561</td>\n",
       "      <td>0.916561</td>\n",
       "      <td>0.917382</td>\n",
       "      <td>0.001043</td>\n",
       "      <td>49</td>\n",
       "    </tr>\n",
       "    <tr>\n",
       "      <th>1</th>\n",
       "      <td>0.023216</td>\n",
       "      <td>0.000402</td>\n",
       "      <td>0.000534</td>\n",
       "      <td>0.000013</td>\n",
       "      <td>2</td>\n",
       "      <td>5</td>\n",
       "      <td>3</td>\n",
       "      <td>{'max_depth': 2, 'min_samples_leaf': 5, 'min_s...</td>\n",
       "      <td>0.916667</td>\n",
       "      <td>0.919192</td>\n",
       "      <td>0.917929</td>\n",
       "      <td>0.916561</td>\n",
       "      <td>0.916561</td>\n",
       "      <td>0.917382</td>\n",
       "      <td>0.001043</td>\n",
       "      <td>49</td>\n",
       "    </tr>\n",
       "    <tr>\n",
       "      <th>2</th>\n",
       "      <td>0.022953</td>\n",
       "      <td>0.000450</td>\n",
       "      <td>0.000484</td>\n",
       "      <td>0.000022</td>\n",
       "      <td>2</td>\n",
       "      <td>5</td>\n",
       "      <td>5</td>\n",
       "      <td>{'max_depth': 2, 'min_samples_leaf': 5, 'min_s...</td>\n",
       "      <td>0.916667</td>\n",
       "      <td>0.919192</td>\n",
       "      <td>0.917929</td>\n",
       "      <td>0.916561</td>\n",
       "      <td>0.916561</td>\n",
       "      <td>0.917382</td>\n",
       "      <td>0.001043</td>\n",
       "      <td>49</td>\n",
       "    </tr>\n",
       "    <tr>\n",
       "      <th>3</th>\n",
       "      <td>0.022897</td>\n",
       "      <td>0.000407</td>\n",
       "      <td>0.000479</td>\n",
       "      <td>0.000016</td>\n",
       "      <td>2</td>\n",
       "      <td>10</td>\n",
       "      <td>2</td>\n",
       "      <td>{'max_depth': 2, 'min_samples_leaf': 10, 'min_...</td>\n",
       "      <td>0.916667</td>\n",
       "      <td>0.919192</td>\n",
       "      <td>0.917929</td>\n",
       "      <td>0.916561</td>\n",
       "      <td>0.916561</td>\n",
       "      <td>0.917382</td>\n",
       "      <td>0.001043</td>\n",
       "      <td>49</td>\n",
       "    </tr>\n",
       "    <tr>\n",
       "      <th>4</th>\n",
       "      <td>0.022897</td>\n",
       "      <td>0.000489</td>\n",
       "      <td>0.000483</td>\n",
       "      <td>0.000036</td>\n",
       "      <td>2</td>\n",
       "      <td>10</td>\n",
       "      <td>3</td>\n",
       "      <td>{'max_depth': 2, 'min_samples_leaf': 10, 'min_...</td>\n",
       "      <td>0.916667</td>\n",
       "      <td>0.919192</td>\n",
       "      <td>0.917929</td>\n",
       "      <td>0.916561</td>\n",
       "      <td>0.916561</td>\n",
       "      <td>0.917382</td>\n",
       "      <td>0.001043</td>\n",
       "      <td>49</td>\n",
       "    </tr>\n",
       "    <tr>\n",
       "      <th>...</th>\n",
       "      <td>...</td>\n",
       "      <td>...</td>\n",
       "      <td>...</td>\n",
       "      <td>...</td>\n",
       "      <td>...</td>\n",
       "      <td>...</td>\n",
       "      <td>...</td>\n",
       "      <td>...</td>\n",
       "      <td>...</td>\n",
       "      <td>...</td>\n",
       "      <td>...</td>\n",
       "      <td>...</td>\n",
       "      <td>...</td>\n",
       "      <td>...</td>\n",
       "      <td>...</td>\n",
       "      <td>...</td>\n",
       "    </tr>\n",
       "    <tr>\n",
       "      <th>70</th>\n",
       "      <td>0.042853</td>\n",
       "      <td>0.021440</td>\n",
       "      <td>0.000654</td>\n",
       "      <td>0.000081</td>\n",
       "      <td>20</td>\n",
       "      <td>50</td>\n",
       "      <td>3</td>\n",
       "      <td>{'max_depth': 20, 'min_samples_leaf': 50, 'min...</td>\n",
       "      <td>0.931818</td>\n",
       "      <td>0.933081</td>\n",
       "      <td>0.933081</td>\n",
       "      <td>0.929204</td>\n",
       "      <td>0.941846</td>\n",
       "      <td>0.933806</td>\n",
       "      <td>0.004262</td>\n",
       "      <td>28</td>\n",
       "    </tr>\n",
       "    <tr>\n",
       "      <th>71</th>\n",
       "      <td>0.030430</td>\n",
       "      <td>0.000779</td>\n",
       "      <td>0.000598</td>\n",
       "      <td>0.000058</td>\n",
       "      <td>20</td>\n",
       "      <td>50</td>\n",
       "      <td>5</td>\n",
       "      <td>{'max_depth': 20, 'min_samples_leaf': 50, 'min...</td>\n",
       "      <td>0.931818</td>\n",
       "      <td>0.933081</td>\n",
       "      <td>0.933081</td>\n",
       "      <td>0.929204</td>\n",
       "      <td>0.941846</td>\n",
       "      <td>0.933806</td>\n",
       "      <td>0.004262</td>\n",
       "      <td>28</td>\n",
       "    </tr>\n",
       "    <tr>\n",
       "      <th>72</th>\n",
       "      <td>0.025884</td>\n",
       "      <td>0.000684</td>\n",
       "      <td>0.000480</td>\n",
       "      <td>0.000033</td>\n",
       "      <td>20</td>\n",
       "      <td>100</td>\n",
       "      <td>2</td>\n",
       "      <td>{'max_depth': 20, 'min_samples_leaf': 100, 'mi...</td>\n",
       "      <td>0.898990</td>\n",
       "      <td>0.895202</td>\n",
       "      <td>0.888889</td>\n",
       "      <td>0.887484</td>\n",
       "      <td>0.901391</td>\n",
       "      <td>0.894391</td>\n",
       "      <td>0.005455</td>\n",
       "      <td>61</td>\n",
       "    </tr>\n",
       "    <tr>\n",
       "      <th>73</th>\n",
       "      <td>0.026088</td>\n",
       "      <td>0.000576</td>\n",
       "      <td>0.000695</td>\n",
       "      <td>0.000207</td>\n",
       "      <td>20</td>\n",
       "      <td>100</td>\n",
       "      <td>3</td>\n",
       "      <td>{'max_depth': 20, 'min_samples_leaf': 100, 'mi...</td>\n",
       "      <td>0.898990</td>\n",
       "      <td>0.895202</td>\n",
       "      <td>0.888889</td>\n",
       "      <td>0.887484</td>\n",
       "      <td>0.901391</td>\n",
       "      <td>0.894391</td>\n",
       "      <td>0.005455</td>\n",
       "      <td>61</td>\n",
       "    </tr>\n",
       "    <tr>\n",
       "      <th>74</th>\n",
       "      <td>0.025873</td>\n",
       "      <td>0.000477</td>\n",
       "      <td>0.000517</td>\n",
       "      <td>0.000052</td>\n",
       "      <td>20</td>\n",
       "      <td>100</td>\n",
       "      <td>5</td>\n",
       "      <td>{'max_depth': 20, 'min_samples_leaf': 100, 'mi...</td>\n",
       "      <td>0.898990</td>\n",
       "      <td>0.895202</td>\n",
       "      <td>0.888889</td>\n",
       "      <td>0.887484</td>\n",
       "      <td>0.901391</td>\n",
       "      <td>0.894391</td>\n",
       "      <td>0.005455</td>\n",
       "      <td>61</td>\n",
       "    </tr>\n",
       "  </tbody>\n",
       "</table>\n",
       "<p>75 rows × 16 columns</p>\n",
       "</div>"
      ],
      "text/plain": [
       "    mean_fit_time  std_fit_time  mean_score_time  std_score_time  \\\n",
       "0        0.025295      0.003462         0.000656        0.000046   \n",
       "1        0.023216      0.000402         0.000534        0.000013   \n",
       "2        0.022953      0.000450         0.000484        0.000022   \n",
       "3        0.022897      0.000407         0.000479        0.000016   \n",
       "4        0.022897      0.000489         0.000483        0.000036   \n",
       "..            ...           ...              ...             ...   \n",
       "70       0.042853      0.021440         0.000654        0.000081   \n",
       "71       0.030430      0.000779         0.000598        0.000058   \n",
       "72       0.025884      0.000684         0.000480        0.000033   \n",
       "73       0.026088      0.000576         0.000695        0.000207   \n",
       "74       0.025873      0.000477         0.000517        0.000052   \n",
       "\n",
       "   param_max_depth param_min_samples_leaf param_min_samples_split  \\\n",
       "0                2                      5                       2   \n",
       "1                2                      5                       3   \n",
       "2                2                      5                       5   \n",
       "3                2                     10                       2   \n",
       "4                2                     10                       3   \n",
       "..             ...                    ...                     ...   \n",
       "70              20                     50                       3   \n",
       "71              20                     50                       5   \n",
       "72              20                    100                       2   \n",
       "73              20                    100                       3   \n",
       "74              20                    100                       5   \n",
       "\n",
       "                                               params  split0_test_score  \\\n",
       "0   {'max_depth': 2, 'min_samples_leaf': 5, 'min_s...           0.916667   \n",
       "1   {'max_depth': 2, 'min_samples_leaf': 5, 'min_s...           0.916667   \n",
       "2   {'max_depth': 2, 'min_samples_leaf': 5, 'min_s...           0.916667   \n",
       "3   {'max_depth': 2, 'min_samples_leaf': 10, 'min_...           0.916667   \n",
       "4   {'max_depth': 2, 'min_samples_leaf': 10, 'min_...           0.916667   \n",
       "..                                                ...                ...   \n",
       "70  {'max_depth': 20, 'min_samples_leaf': 50, 'min...           0.931818   \n",
       "71  {'max_depth': 20, 'min_samples_leaf': 50, 'min...           0.931818   \n",
       "72  {'max_depth': 20, 'min_samples_leaf': 100, 'mi...           0.898990   \n",
       "73  {'max_depth': 20, 'min_samples_leaf': 100, 'mi...           0.898990   \n",
       "74  {'max_depth': 20, 'min_samples_leaf': 100, 'mi...           0.898990   \n",
       "\n",
       "    split1_test_score  split2_test_score  split3_test_score  \\\n",
       "0            0.919192           0.917929           0.916561   \n",
       "1            0.919192           0.917929           0.916561   \n",
       "2            0.919192           0.917929           0.916561   \n",
       "3            0.919192           0.917929           0.916561   \n",
       "4            0.919192           0.917929           0.916561   \n",
       "..                ...                ...                ...   \n",
       "70           0.933081           0.933081           0.929204   \n",
       "71           0.933081           0.933081           0.929204   \n",
       "72           0.895202           0.888889           0.887484   \n",
       "73           0.895202           0.888889           0.887484   \n",
       "74           0.895202           0.888889           0.887484   \n",
       "\n",
       "    split4_test_score  mean_test_score  std_test_score  rank_test_score  \n",
       "0            0.916561         0.917382        0.001043               49  \n",
       "1            0.916561         0.917382        0.001043               49  \n",
       "2            0.916561         0.917382        0.001043               49  \n",
       "3            0.916561         0.917382        0.001043               49  \n",
       "4            0.916561         0.917382        0.001043               49  \n",
       "..                ...              ...             ...              ...  \n",
       "70           0.941846         0.933806        0.004262               28  \n",
       "71           0.941846         0.933806        0.004262               28  \n",
       "72           0.901391         0.894391        0.005455               61  \n",
       "73           0.901391         0.894391        0.005455               61  \n",
       "74           0.901391         0.894391        0.005455               61  \n",
       "\n",
       "[75 rows x 16 columns]"
      ]
     },
     "execution_count": 83,
     "metadata": {},
     "output_type": "execute_result"
    }
   ],
   "source": [
    "tree.fit(X_train, y_train)\n",
    "treedata = pd.DataFrame(tree.cv_results_)\n",
    "treedata"
   ]
  },
  {
   "cell_type": "code",
   "execution_count": 84,
   "id": "18c44c6e",
   "metadata": {},
   "outputs": [],
   "source": [
    "treepredict = tree.predict(X_test)"
   ]
  },
  {
   "cell_type": "markdown",
   "id": "0cbc580e",
   "metadata": {},
   "source": [
    "#### Confusion Matrix"
   ]
  },
  {
   "cell_type": "code",
   "execution_count": 85,
   "id": "63654939",
   "metadata": {},
   "outputs": [
    {
     "data": {
      "text/plain": [
       "<sklearn.metrics._plot.confusion_matrix.ConfusionMatrixDisplay at 0x16debb790>"
      ]
     },
     "execution_count": 85,
     "metadata": {},
     "output_type": "execute_result"
    },
    {
     "data": {
      "image/png": "[encoded data removed]",
      "text/plain": [
       "<Figure size 640x480 with 2 Axes>"
      ]
     },
     "metadata": {},
     "output_type": "display_data"
    }
   ],
   "source": [
    "cm3 = confusion_matrix(y_test, treepredict, labels = tree.classes_)\n",
    "disp = ConfusionMatrixDisplay(confusion_matrix=cm3, display_labels=tree.classes_)\n",
    "disp.plot()"
   ]
  },
  {
   "cell_type": "markdown",
   "id": "df02d79e",
   "metadata": {},
   "source": [
    "#### Accuracy"
   ]
  },
  {
   "cell_type": "code",
   "execution_count": 86,
   "id": "a16df021",
   "metadata": {},
   "outputs": [
    {
     "name": "stdout",
     "output_type": "stream",
     "text": [
      "0.9545454545454546\n"
     ]
    }
   ],
   "source": [
    "results.loc['Decision Tree','Accuracy']=accuracy_score(y_test,treepredict) \n",
    "print(results.loc['Decision Tree','Accuracy']) "
   ]
  },
  {
   "cell_type": "markdown",
   "id": "cd1fb702",
   "metadata": {},
   "source": [
    "#### Balanced Accuracy"
   ]
  },
  {
   "cell_type": "code",
   "execution_count": 87,
   "id": "24cb6691",
   "metadata": {},
   "outputs": [
    {
     "name": "stdout",
     "output_type": "stream",
     "text": [
      "0.8434171072358558\n"
     ]
    }
   ],
   "source": [
    "results.loc['Decision Tree', 'Balanced Accuracy'] = balanced_accuracy_score(y_test, treepredict)\n",
    "print(results.loc['Decision Tree', 'Balanced Accuracy'])"
   ]
  },
  {
   "cell_type": "markdown",
   "id": "30895fe8",
   "metadata": {},
   "source": [
    "#### Training time (s)"
   ]
  },
  {
   "cell_type": "code",
   "execution_count": 88,
   "id": "94fec133",
   "metadata": {},
   "outputs": [
    {
     "name": "stdout",
     "output_type": "stream",
     "text": [
      "0.02610686111450195\n"
     ]
    }
   ],
   "source": [
    "results.loc['Decision Tree','Training Time']=tree.cv_results_['mean_fit_time'].mean() \n",
    "print(results.loc['Decision Tree','Training Time']) "
   ]
  },
  {
   "cell_type": "markdown",
   "id": "489455ca",
   "metadata": {},
   "source": [
    "#### Prediction Time (s) per sms"
   ]
  },
  {
   "cell_type": "code",
   "execution_count": 89,
   "id": "42756987",
   "metadata": {},
   "outputs": [
    {
     "name": "stdout",
     "output_type": "stream",
     "text": [
      "5.490864968861794e-07\n"
     ]
    }
   ],
   "source": [
    "results.loc['Decision Tree','Prediction Time']=tree.cv_results_['mean_score_time'].mean()/len(y_test) \n",
    "print(results.loc['Decision Tree','Prediction Time']) "
   ]
  },
  {
   "cell_type": "markdown",
   "id": "083134fa",
   "metadata": {},
   "source": [
    "# SMOTE w/ Decision Tree"
   ]
  },
  {
   "cell_type": "code",
   "execution_count": 90,
   "id": "1ade3568",
   "metadata": {},
   "outputs": [
    {
     "data": {
      "text/html": [
       "<style>#sk-container-id-5 {color: black;background-color: white;}#sk-container-id-5 pre{padding: 0;}#sk-container-id-5 div.sk-toggleable {background-color: white;}#sk-container-id-5 label.sk-toggleable__label {cursor: pointer;display: block;width: 100%;margin-bottom: 0;padding: 0.3em;box-sizing: border-box;text-align: center;}#sk-container-id-5 label.sk-toggleable__label-arrow:before {content: \"▸\";float: left;margin-right: 0.25em;color: #696969;}#sk-container-id-5 label.sk-toggleable__label-arrow:hover:before {color: black;}#sk-container-id-5 div.sk-estimator:hover label.sk-toggleable__label-arrow:before {color: black;}#sk-container-id-5 div.sk-toggleable__content {max-height: 0;max-width: 0;overflow: hidden;text-align: left;background-color: #f0f8ff;}#sk-container-id-5 div.sk-toggleable__content pre {margin: 0.2em;color: black;border-radius: 0.25em;background-color: #f0f8ff;}#sk-container-id-5 input.sk-toggleable__control:checked~div.sk-toggleable__content {max-height: 200px;max-width: 100%;overflow: auto;}#sk-container-id-5 input.sk-toggleable__control:checked~label.sk-toggleable__label-arrow:before {content: \"▾\";}#sk-container-id-5 div.sk-estimator input.sk-toggleable__control:checked~label.sk-toggleable__label {background-color: #d4ebff;}#sk-container-id-5 div.sk-label input.sk-toggleable__control:checked~label.sk-toggleable__label {background-color: #d4ebff;}#sk-container-id-5 input.sk-hidden--visually {border: 0;clip: rect(1px 1px 1px 1px);clip: rect(1px, 1px, 1px, 1px);height: 1px;margin: -1px;overflow: hidden;padding: 0;position: absolute;width: 1px;}#sk-container-id-5 div.sk-estimator {font-family: monospace;background-color: #f0f8ff;border: 1px dotted black;border-radius: 0.25em;box-sizing: border-box;margin-bottom: 0.5em;}#sk-container-id-5 div.sk-estimator:hover {background-color: #d4ebff;}#sk-container-id-5 div.sk-parallel-item::after {content: \"\";width: 100%;border-bottom: 1px solid gray;flex-grow: 1;}#sk-container-id-5 div.sk-label:hover label.sk-toggleable__label {background-color: #d4ebff;}#sk-container-id-5 div.sk-serial::before {content: \"\";position: absolute;border-left: 1px solid gray;box-sizing: border-box;top: 0;bottom: 0;left: 50%;z-index: 0;}#sk-container-id-5 div.sk-serial {display: flex;flex-direction: column;align-items: center;background-color: white;padding-right: 0.2em;padding-left: 0.2em;position: relative;}#sk-container-id-5 div.sk-item {position: relative;z-index: 1;}#sk-container-id-5 div.sk-parallel {display: flex;align-items: stretch;justify-content: center;background-color: white;position: relative;}#sk-container-id-5 div.sk-item::before, #sk-container-id-5 div.sk-parallel-item::before {content: \"\";position: absolute;border-left: 1px solid gray;box-sizing: border-box;top: 0;bottom: 0;left: 50%;z-index: -1;}#sk-container-id-5 div.sk-parallel-item {display: flex;flex-direction: column;z-index: 1;position: relative;background-color: white;}#sk-container-id-5 div.sk-parallel-item:first-child::after {align-self: flex-end;width: 50%;}#sk-container-id-5 div.sk-parallel-item:last-child::after {align-self: flex-start;width: 50%;}#sk-container-id-5 div.sk-parallel-item:only-child::after {width: 0;}#sk-container-id-5 div.sk-dashed-wrapped {border: 1px dashed gray;margin: 0 0.4em 0.5em 0.4em;box-sizing: border-box;padding-bottom: 0.4em;background-color: white;}#sk-container-id-5 div.sk-label label {font-family: monospace;font-weight: bold;display: inline-block;line-height: 1.2em;}#sk-container-id-5 div.sk-label-container {text-align: center;}#sk-container-id-5 div.sk-container {/* jupyter's `normalize.less` sets `[hidden] { display: none; }` but bootstrap.min.css set `[hidden] { display: none !important; }` so we also need the `!important` here to be able to override the default hidden behavior on the sphinx rendered scikit-learn.org. See: https://github.com/scikit-learn/scikit-learn/issues/21755 */display: inline-block !important;position: relative;}#sk-container-id-5 div.sk-text-repr-fallback {display: none;}</style><div id=\"sk-container-id-5\" class=\"sk-top-container\"><div class=\"sk-text-repr-fallback\"><pre>GridSearchCV(estimator=DecisionTreeClassifier(),\n",
       "             param_grid={&#x27;max_depth&#x27;: [2, 3, 5, 10, 20],\n",
       "                         &#x27;min_samples_leaf&#x27;: [5, 10, 20, 50, 100],\n",
       "                         &#x27;min_samples_split&#x27;: [2, 3, 5]},\n",
       "             scoring=&#x27;accuracy&#x27;)</pre><b>In a Jupyter environment, please rerun this cell to show the HTML representation or trust the notebook. <br />On GitHub, the HTML representation is unable to render, please try loading this page with nbviewer.org.</b></div><div class=\"sk-container\" hidden><div class=\"sk-item sk-dashed-wrapped\"><div class=\"sk-label-container\"><div class=\"sk-label sk-toggleable\"><input class=\"sk-toggleable__control sk-hidden--visually\" id=\"sk-estimator-id-11\" type=\"checkbox\" ><label for=\"sk-estimator-id-11\" class=\"sk-toggleable__label sk-toggleable__label-arrow\">GridSearchCV</label><div class=\"sk-toggleable__content\"><pre>GridSearchCV(estimator=DecisionTreeClassifier(),\n",
       "             param_grid={&#x27;max_depth&#x27;: [2, 3, 5, 10, 20],\n",
       "                         &#x27;min_samples_leaf&#x27;: [5, 10, 20, 50, 100],\n",
       "                         &#x27;min_samples_split&#x27;: [2, 3, 5]},\n",
       "             scoring=&#x27;accuracy&#x27;)</pre></div></div></div><div class=\"sk-parallel\"><div class=\"sk-parallel-item\"><div class=\"sk-item\"><div class=\"sk-label-container\"><div class=\"sk-label sk-toggleable\"><input class=\"sk-toggleable__control sk-hidden--visually\" id=\"sk-estimator-id-12\" type=\"checkbox\" ><label for=\"sk-estimator-id-12\" class=\"sk-toggleable__label sk-toggleable__label-arrow\">estimator: DecisionTreeClassifier</label><div class=\"sk-toggleable__content\"><pre>DecisionTreeClassifier()</pre></div></div></div><div class=\"sk-serial\"><div class=\"sk-item\"><div class=\"sk-estimator sk-toggleable\"><input class=\"sk-toggleable__control sk-hidden--visually\" id=\"sk-estimator-id-13\" type=\"checkbox\" ><label for=\"sk-estimator-id-13\" class=\"sk-toggleable__label sk-toggleable__label-arrow\">DecisionTreeClassifier</label><div class=\"sk-toggleable__content\"><pre>DecisionTreeClassifier()</pre></div></div></div></div></div></div></div></div></div></div>"
      ],
      "text/plain": [
       "GridSearchCV(estimator=DecisionTreeClassifier(),\n",
       "             param_grid={'max_depth': [2, 3, 5, 10, 20],\n",
       "                         'min_samples_leaf': [5, 10, 20, 50, 100],\n",
       "                         'min_samples_split': [2, 3, 5]},\n",
       "             scoring='accuracy')"
      ]
     },
     "execution_count": 90,
     "metadata": {},
     "output_type": "execute_result"
    }
   ],
   "source": [
    "smotetree = DecisionTreeClassifier()\n",
    "smotetree = GridSearchCV(smotetree, treeparam, scoring = 'accuracy')\n",
    "smotetree.fit(X_train_smote, y_train_smote) "
   ]
  },
  {
   "cell_type": "code",
   "execution_count": 91,
   "id": "7b848e6e",
   "metadata": {
    "scrolled": true
   },
   "outputs": [
    {
     "data": {
      "text/html": [
       "<div>\n",
       "<style scoped>\n",
       "    .dataframe tbody tr th:only-of-type {\n",
       "        vertical-align: middle;\n",
       "    }\n",
       "\n",
       "    .dataframe tbody tr th {\n",
       "        vertical-align: top;\n",
       "    }\n",
       "\n",
       "    .dataframe thead th {\n",
       "        text-align: right;\n",
       "    }\n",
       "</style>\n",
       "<table border=\"1\" class=\"dataframe\">\n",
       "  <thead>\n",
       "    <tr style=\"text-align: right;\">\n",
       "      <th></th>\n",
       "      <th>mean_fit_time</th>\n",
       "      <th>std_fit_time</th>\n",
       "      <th>mean_score_time</th>\n",
       "      <th>std_score_time</th>\n",
       "      <th>param_max_depth</th>\n",
       "      <th>param_min_samples_leaf</th>\n",
       "      <th>param_min_samples_split</th>\n",
       "      <th>params</th>\n",
       "      <th>split0_test_score</th>\n",
       "      <th>split1_test_score</th>\n",
       "      <th>split2_test_score</th>\n",
       "      <th>split3_test_score</th>\n",
       "      <th>split4_test_score</th>\n",
       "      <th>mean_test_score</th>\n",
       "      <th>std_test_score</th>\n",
       "      <th>rank_test_score</th>\n",
       "    </tr>\n",
       "  </thead>\n",
       "  <tbody>\n",
       "    <tr>\n",
       "      <th>0</th>\n",
       "      <td>0.020289</td>\n",
       "      <td>0.000813</td>\n",
       "      <td>0.000838</td>\n",
       "      <td>0.000099</td>\n",
       "      <td>2</td>\n",
       "      <td>5</td>\n",
       "      <td>2</td>\n",
       "      <td>{'max_depth': 2, 'min_samples_leaf': 5, 'min_s...</td>\n",
       "      <td>0.613391</td>\n",
       "      <td>0.574514</td>\n",
       "      <td>0.574514</td>\n",
       "      <td>0.579554</td>\n",
       "      <td>0.587896</td>\n",
       "      <td>0.585974</td>\n",
       "      <td>0.014555</td>\n",
       "      <td>61</td>\n",
       "    </tr>\n",
       "    <tr>\n",
       "      <th>1</th>\n",
       "      <td>0.019525</td>\n",
       "      <td>0.000815</td>\n",
       "      <td>0.000799</td>\n",
       "      <td>0.000074</td>\n",
       "      <td>2</td>\n",
       "      <td>5</td>\n",
       "      <td>3</td>\n",
       "      <td>{'max_depth': 2, 'min_samples_leaf': 5, 'min_s...</td>\n",
       "      <td>0.613391</td>\n",
       "      <td>0.574514</td>\n",
       "      <td>0.574514</td>\n",
       "      <td>0.579554</td>\n",
       "      <td>0.587896</td>\n",
       "      <td>0.585974</td>\n",
       "      <td>0.014555</td>\n",
       "      <td>61</td>\n",
       "    </tr>\n",
       "    <tr>\n",
       "      <th>2</th>\n",
       "      <td>0.019717</td>\n",
       "      <td>0.001316</td>\n",
       "      <td>0.000752</td>\n",
       "      <td>0.000071</td>\n",
       "      <td>2</td>\n",
       "      <td>5</td>\n",
       "      <td>5</td>\n",
       "      <td>{'max_depth': 2, 'min_samples_leaf': 5, 'min_s...</td>\n",
       "      <td>0.613391</td>\n",
       "      <td>0.574514</td>\n",
       "      <td>0.574514</td>\n",
       "      <td>0.579554</td>\n",
       "      <td>0.587896</td>\n",
       "      <td>0.585974</td>\n",
       "      <td>0.014555</td>\n",
       "      <td>61</td>\n",
       "    </tr>\n",
       "    <tr>\n",
       "      <th>3</th>\n",
       "      <td>0.018892</td>\n",
       "      <td>0.000981</td>\n",
       "      <td>0.000746</td>\n",
       "      <td>0.000103</td>\n",
       "      <td>2</td>\n",
       "      <td>10</td>\n",
       "      <td>2</td>\n",
       "      <td>{'max_depth': 2, 'min_samples_leaf': 10, 'min_...</td>\n",
       "      <td>0.613391</td>\n",
       "      <td>0.574514</td>\n",
       "      <td>0.574514</td>\n",
       "      <td>0.579554</td>\n",
       "      <td>0.587896</td>\n",
       "      <td>0.585974</td>\n",
       "      <td>0.014555</td>\n",
       "      <td>61</td>\n",
       "    </tr>\n",
       "    <tr>\n",
       "      <th>4</th>\n",
       "      <td>0.018651</td>\n",
       "      <td>0.000937</td>\n",
       "      <td>0.000650</td>\n",
       "      <td>0.000037</td>\n",
       "      <td>2</td>\n",
       "      <td>10</td>\n",
       "      <td>3</td>\n",
       "      <td>{'max_depth': 2, 'min_samples_leaf': 10, 'min_...</td>\n",
       "      <td>0.613391</td>\n",
       "      <td>0.574514</td>\n",
       "      <td>0.574514</td>\n",
       "      <td>0.579554</td>\n",
       "      <td>0.587896</td>\n",
       "      <td>0.585974</td>\n",
       "      <td>0.014555</td>\n",
       "      <td>61</td>\n",
       "    </tr>\n",
       "    <tr>\n",
       "      <th>...</th>\n",
       "      <td>...</td>\n",
       "      <td>...</td>\n",
       "      <td>...</td>\n",
       "      <td>...</td>\n",
       "      <td>...</td>\n",
       "      <td>...</td>\n",
       "      <td>...</td>\n",
       "      <td>...</td>\n",
       "      <td>...</td>\n",
       "      <td>...</td>\n",
       "      <td>...</td>\n",
       "      <td>...</td>\n",
       "      <td>...</td>\n",
       "      <td>...</td>\n",
       "      <td>...</td>\n",
       "      <td>...</td>\n",
       "    </tr>\n",
       "    <tr>\n",
       "      <th>70</th>\n",
       "      <td>0.030791</td>\n",
       "      <td>0.001464</td>\n",
       "      <td>0.000732</td>\n",
       "      <td>0.000048</td>\n",
       "      <td>20</td>\n",
       "      <td>50</td>\n",
       "      <td>3</td>\n",
       "      <td>{'max_depth': 20, 'min_samples_leaf': 50, 'min...</td>\n",
       "      <td>0.685385</td>\n",
       "      <td>0.701224</td>\n",
       "      <td>0.703384</td>\n",
       "      <td>0.714183</td>\n",
       "      <td>0.711816</td>\n",
       "      <td>0.703198</td>\n",
       "      <td>0.010160</td>\n",
       "      <td>22</td>\n",
       "    </tr>\n",
       "    <tr>\n",
       "      <th>71</th>\n",
       "      <td>0.030660</td>\n",
       "      <td>0.001400</td>\n",
       "      <td>0.000710</td>\n",
       "      <td>0.000046</td>\n",
       "      <td>20</td>\n",
       "      <td>50</td>\n",
       "      <td>5</td>\n",
       "      <td>{'max_depth': 20, 'min_samples_leaf': 50, 'min...</td>\n",
       "      <td>0.685385</td>\n",
       "      <td>0.701224</td>\n",
       "      <td>0.703384</td>\n",
       "      <td>0.714183</td>\n",
       "      <td>0.711816</td>\n",
       "      <td>0.703198</td>\n",
       "      <td>0.010160</td>\n",
       "      <td>22</td>\n",
       "    </tr>\n",
       "    <tr>\n",
       "      <th>72</th>\n",
       "      <td>0.027065</td>\n",
       "      <td>0.001365</td>\n",
       "      <td>0.000683</td>\n",
       "      <td>0.000056</td>\n",
       "      <td>20</td>\n",
       "      <td>100</td>\n",
       "      <td>2</td>\n",
       "      <td>{'max_depth': 20, 'min_samples_leaf': 100, 'mi...</td>\n",
       "      <td>0.748020</td>\n",
       "      <td>0.665947</td>\n",
       "      <td>0.678906</td>\n",
       "      <td>0.692585</td>\n",
       "      <td>0.673631</td>\n",
       "      <td>0.691818</td>\n",
       "      <td>0.029415</td>\n",
       "      <td>25</td>\n",
       "    </tr>\n",
       "    <tr>\n",
       "      <th>73</th>\n",
       "      <td>0.027021</td>\n",
       "      <td>0.001283</td>\n",
       "      <td>0.000711</td>\n",
       "      <td>0.000105</td>\n",
       "      <td>20</td>\n",
       "      <td>100</td>\n",
       "      <td>3</td>\n",
       "      <td>{'max_depth': 20, 'min_samples_leaf': 100, 'mi...</td>\n",
       "      <td>0.748020</td>\n",
       "      <td>0.665947</td>\n",
       "      <td>0.678906</td>\n",
       "      <td>0.692585</td>\n",
       "      <td>0.673631</td>\n",
       "      <td>0.691818</td>\n",
       "      <td>0.029415</td>\n",
       "      <td>25</td>\n",
       "    </tr>\n",
       "    <tr>\n",
       "      <th>74</th>\n",
       "      <td>0.026961</td>\n",
       "      <td>0.001385</td>\n",
       "      <td>0.000715</td>\n",
       "      <td>0.000045</td>\n",
       "      <td>20</td>\n",
       "      <td>100</td>\n",
       "      <td>5</td>\n",
       "      <td>{'max_depth': 20, 'min_samples_leaf': 100, 'mi...</td>\n",
       "      <td>0.748020</td>\n",
       "      <td>0.665947</td>\n",
       "      <td>0.678906</td>\n",
       "      <td>0.692585</td>\n",
       "      <td>0.673631</td>\n",
       "      <td>0.691818</td>\n",
       "      <td>0.029415</td>\n",
       "      <td>25</td>\n",
       "    </tr>\n",
       "  </tbody>\n",
       "</table>\n",
       "<p>75 rows × 16 columns</p>\n",
       "</div>"
      ],
      "text/plain": [
       "    mean_fit_time  std_fit_time  mean_score_time  std_score_time  \\\n",
       "0        0.020289      0.000813         0.000838        0.000099   \n",
       "1        0.019525      0.000815         0.000799        0.000074   \n",
       "2        0.019717      0.001316         0.000752        0.000071   \n",
       "3        0.018892      0.000981         0.000746        0.000103   \n",
       "4        0.018651      0.000937         0.000650        0.000037   \n",
       "..            ...           ...              ...             ...   \n",
       "70       0.030791      0.001464         0.000732        0.000048   \n",
       "71       0.030660      0.001400         0.000710        0.000046   \n",
       "72       0.027065      0.001365         0.000683        0.000056   \n",
       "73       0.027021      0.001283         0.000711        0.000105   \n",
       "74       0.026961      0.001385         0.000715        0.000045   \n",
       "\n",
       "   param_max_depth param_min_samples_leaf param_min_samples_split  \\\n",
       "0                2                      5                       2   \n",
       "1                2                      5                       3   \n",
       "2                2                      5                       5   \n",
       "3                2                     10                       2   \n",
       "4                2                     10                       3   \n",
       "..             ...                    ...                     ...   \n",
       "70              20                     50                       3   \n",
       "71              20                     50                       5   \n",
       "72              20                    100                       2   \n",
       "73              20                    100                       3   \n",
       "74              20                    100                       5   \n",
       "\n",
       "                                               params  split0_test_score  \\\n",
       "0   {'max_depth': 2, 'min_samples_leaf': 5, 'min_s...           0.613391   \n",
       "1   {'max_depth': 2, 'min_samples_leaf': 5, 'min_s...           0.613391   \n",
       "2   {'max_depth': 2, 'min_samples_leaf': 5, 'min_s...           0.613391   \n",
       "3   {'max_depth': 2, 'min_samples_leaf': 10, 'min_...           0.613391   \n",
       "4   {'max_depth': 2, 'min_samples_leaf': 10, 'min_...           0.613391   \n",
       "..                                                ...                ...   \n",
       "70  {'max_depth': 20, 'min_samples_leaf': 50, 'min...           0.685385   \n",
       "71  {'max_depth': 20, 'min_samples_leaf': 50, 'min...           0.685385   \n",
       "72  {'max_depth': 20, 'min_samples_leaf': 100, 'mi...           0.748020   \n",
       "73  {'max_depth': 20, 'min_samples_leaf': 100, 'mi...           0.748020   \n",
       "74  {'max_depth': 20, 'min_samples_leaf': 100, 'mi...           0.748020   \n",
       "\n",
       "    split1_test_score  split2_test_score  split3_test_score  \\\n",
       "0            0.574514           0.574514           0.579554   \n",
       "1            0.574514           0.574514           0.579554   \n",
       "2            0.574514           0.574514           0.579554   \n",
       "3            0.574514           0.574514           0.579554   \n",
       "4            0.574514           0.574514           0.579554   \n",
       "..                ...                ...                ...   \n",
       "70           0.701224           0.703384           0.714183   \n",
       "71           0.701224           0.703384           0.714183   \n",
       "72           0.665947           0.678906           0.692585   \n",
       "73           0.665947           0.678906           0.692585   \n",
       "74           0.665947           0.678906           0.692585   \n",
       "\n",
       "    split4_test_score  mean_test_score  std_test_score  rank_test_score  \n",
       "0            0.587896         0.585974        0.014555               61  \n",
       "1            0.587896         0.585974        0.014555               61  \n",
       "2            0.587896         0.585974        0.014555               61  \n",
       "3            0.587896         0.585974        0.014555               61  \n",
       "4            0.587896         0.585974        0.014555               61  \n",
       "..                ...              ...             ...              ...  \n",
       "70           0.711816         0.703198        0.010160               22  \n",
       "71           0.711816         0.703198        0.010160               22  \n",
       "72           0.673631         0.691818        0.029415               25  \n",
       "73           0.673631         0.691818        0.029415               25  \n",
       "74           0.673631         0.691818        0.029415               25  \n",
       "\n",
       "[75 rows x 16 columns]"
      ]
     },
     "execution_count": 91,
     "metadata": {},
     "output_type": "execute_result"
    }
   ],
   "source": [
    "smotetreeresults = pd.DataFrame(smotetree.cv_results_)\n",
    "smotetreeresults"
   ]
  },
  {
   "cell_type": "code",
   "execution_count": 92,
   "id": "25ccc36b",
   "metadata": {},
   "outputs": [],
   "source": [
    "smotetreepredict = smotetree.predict(X_test)"
   ]
  },
  {
   "cell_type": "markdown",
   "id": "26e38d1e",
   "metadata": {},
   "source": [
    "#### Conufsion Matrix"
   ]
  },
  {
   "cell_type": "code",
   "execution_count": 93,
   "id": "30cda08a",
   "metadata": {},
   "outputs": [
    {
     "data": {
      "text/plain": [
       "<sklearn.metrics._plot.confusion_matrix.ConfusionMatrixDisplay at 0x16e0daf70>"
      ]
     },
     "execution_count": 93,
     "metadata": {},
     "output_type": "execute_result"
    },
    {
     "data": {
      "image/png": "[encoded data removed]",
      "text/plain": [
       "<Figure size 640x480 with 2 Axes>"
      ]
     },
     "metadata": {},
     "output_type": "display_data"
    }
   ],
   "source": [
    "cm4 = confusion_matrix(y_test, smotetreepredict, labels=tree.classes_)\n",
    "disp = ConfusionMatrixDisplay(confusion_matrix=cm4, display_labels=smotetree.classes_)\n",
    "disp.plot()"
   ]
  },
  {
   "cell_type": "markdown",
   "id": "15c99f90",
   "metadata": {},
   "source": [
    "#### Accuracy"
   ]
  },
  {
   "cell_type": "code",
   "execution_count": 94,
   "id": "be448c8e",
   "metadata": {},
   "outputs": [
    {
     "name": "stdout",
     "output_type": "stream",
     "text": [
      "0.9424242424242424\n"
     ]
    }
   ],
   "source": [
    "results.loc['DT SMOTE','Accuracy']=accuracy_score(y_test,smotetreepredict) \n",
    "print(results.loc['DT SMOTE','Accuracy']) "
   ]
  },
  {
   "cell_type": "markdown",
   "id": "09a98257",
   "metadata": {},
   "source": [
    "#### Balanced Accuracy"
   ]
  },
  {
   "cell_type": "code",
   "execution_count": 95,
   "id": "0f340d07",
   "metadata": {},
   "outputs": [
    {
     "name": "stdout",
     "output_type": "stream",
     "text": [
      "0.8440286435729504\n"
     ]
    }
   ],
   "source": [
    "results.loc['DT SMOTE','Balanced Accuracy']=balanced_accuracy_score(y_test,smotetreepredict) \n",
    "print(results.loc['DT SMOTE','Balanced Accuracy']) "
   ]
  },
  {
   "cell_type": "markdown",
   "id": "56a1c09e",
   "metadata": {},
   "source": [
    "#### Training Time (s)"
   ]
  },
  {
   "cell_type": "code",
   "execution_count": 96,
   "id": "7bce6444",
   "metadata": {},
   "outputs": [
    {
     "name": "stdout",
     "output_type": "stream",
     "text": [
      "0.023764897028605143\n"
     ]
    }
   ],
   "source": [
    "results.loc['DT SMOTE','Training Time']=smotetree.cv_results_['mean_fit_time'].mean() \n",
    "print(results.loc['DT SMOTE','Training Time']) "
   ]
  },
  {
   "cell_type": "markdown",
   "id": "c474af2a",
   "metadata": {},
   "source": [
    "#### Prediction Time (s)"
   ]
  },
  {
   "cell_type": "code",
   "execution_count": 97,
   "id": "a799ccbc",
   "metadata": {},
   "outputs": [
    {
     "name": "stdout",
     "output_type": "stream",
     "text": [
      "2.400494649354055e-05\n"
     ]
    }
   ],
   "source": [
    "results.loc['DT SMOTE','Prediction Time']=smotetree.cv_results_['mean_fit_time'].mean()/len(y_test)\n",
    "print(results.loc['DT SMOTE','Prediction Time']) "
   ]
  },
  {
   "cell_type": "markdown",
   "id": "20996650",
   "metadata": {},
   "source": [
    "# Model Comparison"
   ]
  },
  {
   "cell_type": "code",
   "execution_count": 98,
   "id": "465fe80a",
   "metadata": {},
   "outputs": [],
   "source": [
    "import seaborn as sns\n",
    "import matplotlib.pyplot as plt"
   ]
  },
  {
   "cell_type": "code",
   "execution_count": 99,
   "id": "cad43f11",
   "metadata": {},
   "outputs": [
    {
     "data": {
      "text/html": [
       "<div>\n",
       "<style scoped>\n",
       "    .dataframe tbody tr th:only-of-type {\n",
       "        vertical-align: middle;\n",
       "    }\n",
       "\n",
       "    .dataframe tbody tr th {\n",
       "        vertical-align: top;\n",
       "    }\n",
       "\n",
       "    .dataframe thead th {\n",
       "        text-align: right;\n",
       "    }\n",
       "</style>\n",
       "<table border=\"1\" class=\"dataframe\">\n",
       "  <thead>\n",
       "    <tr style=\"text-align: right;\">\n",
       "      <th></th>\n",
       "      <th>Accuracy</th>\n",
       "      <th>Balanced Accuracy</th>\n",
       "      <th>Training Time</th>\n",
       "      <th>Prediction Time</th>\n",
       "    </tr>\n",
       "  </thead>\n",
       "  <tbody>\n",
       "    <tr>\n",
       "      <th>kneighbors</th>\n",
       "      <td>0.948485</td>\n",
       "      <td>0.780172</td>\n",
       "      <td>0.002838</td>\n",
       "      <td>1.204756e-04</td>\n",
       "    </tr>\n",
       "    <tr>\n",
       "      <th>KNNSMOTE</th>\n",
       "      <td>0.921212</td>\n",
       "      <td>0.850706</td>\n",
       "      <td>0.002838</td>\n",
       "      <td>1.204756e-04</td>\n",
       "    </tr>\n",
       "    <tr>\n",
       "      <th>Decision Tree</th>\n",
       "      <td>0.954545</td>\n",
       "      <td>0.843417</td>\n",
       "      <td>0.026107</td>\n",
       "      <td>5.490865e-07</td>\n",
       "    </tr>\n",
       "    <tr>\n",
       "      <th>DT SMOTE</th>\n",
       "      <td>0.942424</td>\n",
       "      <td>0.844029</td>\n",
       "      <td>0.023765</td>\n",
       "      <td>2.400495e-05</td>\n",
       "    </tr>\n",
       "  </tbody>\n",
       "</table>\n",
       "</div>"
      ],
      "text/plain": [
       "               Accuracy  Balanced Accuracy  Training Time  Prediction Time\n",
       "kneighbors     0.948485           0.780172       0.002838     1.204756e-04\n",
       "KNNSMOTE       0.921212           0.850706       0.002838     1.204756e-04\n",
       "Decision Tree  0.954545           0.843417       0.026107     5.490865e-07\n",
       "DT SMOTE       0.942424           0.844029       0.023765     2.400495e-05"
      ]
     },
     "execution_count": 99,
     "metadata": {},
     "output_type": "execute_result"
    }
   ],
   "source": [
    "results"
   ]
  },
  {
   "cell_type": "code",
   "execution_count": 100,
   "id": "bc34bfc5",
   "metadata": {},
   "outputs": [
    {
     "data": {
      "text/plain": [
       "0.007289118598595268"
      ]
     },
     "execution_count": 100,
     "metadata": {},
     "output_type": "execute_result"
    }
   ],
   "source": [
    "(results['Balanced Accuracy'][1]) - (results['Balanced Accuracy'][2])"
   ]
  },
  {
   "cell_type": "code",
   "execution_count": 101,
   "id": "13015f2b",
   "metadata": {},
   "outputs": [
    {
     "data": {
      "text/plain": [
       "219.4109633661676"
      ]
     },
     "execution_count": 101,
     "metadata": {},
     "output_type": "execute_result"
    }
   ],
   "source": [
    "a = (results['Prediction Time'][1])\n",
    "b = results['Prediction Time'][2]\n",
    "a/b"
   ]
  },
  {
   "cell_type": "code",
   "execution_count": 102,
   "id": "d310173a",
   "metadata": {},
   "outputs": [
    {
     "data": {
      "text/plain": [
       "Text(0.5, 1.0, 'Accuracy % Between Tests')"
      ]
     },
     "execution_count": 102,
     "metadata": {},
     "output_type": "execute_result"
    },
    {
     "data": {
      "image/png": "[encoded data removed]",
      "text/plain": [
       "<Figure size 640x480 with 1 Axes>"
      ]
     },
     "metadata": {},
     "output_type": "display_data"
    }
   ],
   "source": [
    "sns.set_style('white')\n",
    "sns.set_context('talk', font_scale=0.9)\n",
    "sns.set_palette('rainbow')\n",
    "results[['Accuracy','Balanced Accuracy']].plot(kind=\"bar\") \n",
    "plt.xlabel('Condition')\n",
    "plt.ylabel('Score')\n",
    "plt.legend(loc = 4)\n",
    "plt.title('Accuracy % Between Tests')"
   ]
  },
  {
   "cell_type": "code",
   "execution_count": 103,
   "id": "8e3bae7d",
   "metadata": {},
   "outputs": [
    {
     "data": {
      "text/plain": [
       "Text(0.5, 1.0, 'Training Time in Seconds')"
      ]
     },
     "execution_count": 103,
     "metadata": {},
     "output_type": "execute_result"
    },
    {
     "data": {
      "image/png": "[encoded data removed]",
      "text/plain": [
       "<Figure size 640x480 with 1 Axes>"
      ]
     },
     "metadata": {},
     "output_type": "display_data"
    }
   ],
   "source": [
    "sns.set_style('white')\n",
    "sns.set_context('talk', font_scale=0.9)\n",
    "sns.set_palette('bright')\n",
    "results[['Training Time']].plot(kind=\"bar\") \n",
    "plt.legend('',frameon=False)\n",
    "plt.xlabel('Condition')\n",
    "plt.ylabel('Time (s)')\n",
    "plt.title('Training Time in Seconds')"
   ]
  },
  {
   "cell_type": "code",
   "execution_count": 104,
   "id": "3aa8e346",
   "metadata": {},
   "outputs": [
    {
     "data": {
      "text/plain": [
       "Text(0.5, 1.0, 'Prediction Time in Seconds')"
      ]
     },
     "execution_count": 104,
     "metadata": {},
     "output_type": "execute_result"
    },
    {
     "data": {
      "image/png": "[encoded data removed]",
      "text/plain": [
       "<Figure size 640x480 with 1 Axes>"
      ]
     },
     "metadata": {},
     "output_type": "display_data"
    }
   ],
   "source": [
    "sns.set_style('white')\n",
    "sns.set_context('talk', font_scale=0.9)\n",
    "sns.set_palette('colorblind')\n",
    "results[['Prediction Time']].plot(kind=\"bar\") \n",
    "plt.legend('',frameon=False)\n",
    "plt.xlabel('Condition')\n",
    "plt.ylabel('Time (s)')\n",
    "plt.title('Prediction Time in Seconds')"
   ]
  },
  {
   "cell_type": "code",
   "execution_count": 105,
   "id": "7d9b2ef2",
   "metadata": {},
   "outputs": [
    {
     "data": {
      "text/plain": [
       "Text(0.5, 1.0, 'KNeighbors')"
      ]
     },
     "execution_count": 105,
     "metadata": {},
     "output_type": "execute_result"
    },
    {
     "data": {
      "image/png": "[encoded data removed]",
      "text/plain": [
       "<Figure size 640x480 with 2 Axes>"
      ]
     },
     "metadata": {},
     "output_type": "display_data"
    }
   ],
   "source": [
    "cm = confusion_matrix(y_test, predicted_knn, labels=kneighbors.classes_)\n",
    "disp = ConfusionMatrixDisplay(confusion_matrix=cm, display_labels=kneighbors.classes_)\n",
    "disp.plot()\n",
    "plt.title('KNeighbors')"
   ]
  },
  {
   "cell_type": "code",
   "execution_count": 106,
   "id": "94c7aa68",
   "metadata": {},
   "outputs": [
    {
     "data": {
      "text/plain": [
       "Text(0.5, 1.0, 'KNeighbors w/SMOTE')"
      ]
     },
     "execution_count": 106,
     "metadata": {},
     "output_type": "execute_result"
    },
    {
     "data": {
      "image/png": "[encoded data removed]",
      "text/plain": [
       "<Figure size 640x480 with 2 Axes>"
      ]
     },
     "metadata": {},
     "output_type": "display_data"
    }
   ],
   "source": [
    "cm = confusion_matrix(y_test, predictedSMOTEKNN, labels=kneighbors.classes_) \n",
    "disp2 = ConfusionMatrixDisplay(confusion_matrix=cm, display_labels=kneighbors.classes_) \n",
    "disp2.plot() \n",
    "plt.title('KNeighbors w/SMOTE')"
   ]
  },
  {
   "cell_type": "code",
   "execution_count": 107,
   "id": "22f6cd3a",
   "metadata": {},
   "outputs": [
    {
     "data": {
      "text/plain": [
       "Text(0.5, 1.0, 'Decision Tree')"
      ]
     },
     "execution_count": 107,
     "metadata": {},
     "output_type": "execute_result"
    },
    {
     "data": {
      "image/png": "[encoded data removed]",
      "text/plain": [
       "<Figure size 640x480 with 2 Axes>"
      ]
     },
     "metadata": {},
     "output_type": "display_data"
    }
   ],
   "source": [
    "cm3 = confusion_matrix(y_test, treepredict, labels = tree.classes_)\n",
    "disp = ConfusionMatrixDisplay(confusion_matrix=cm3, display_labels=tree.classes_)\n",
    "disp.plot()\n",
    "plt.title('Decision Tree')"
   ]
  },
  {
   "cell_type": "code",
   "execution_count": 108,
   "id": "ba24f9a2",
   "metadata": {},
   "outputs": [
    {
     "data": {
      "text/plain": [
       "Text(0.5, 1.0, 'Decision Tree w/SMOTE')"
      ]
     },
     "execution_count": 108,
     "metadata": {},
     "output_type": "execute_result"
    },
    {
     "data": {
      "image/png": "[encoded data removed]",
      "text/plain": [
       "<Figure size 640x480 with 2 Axes>"
      ]
     },
     "metadata": {},
     "output_type": "display_data"
    }
   ],
   "source": [
    "cm4 = confusion_matrix(y_test, smotetreepredict, labels=tree.classes_)\n",
    "disp = ConfusionMatrixDisplay(confusion_matrix=cm4, display_labels=smotetree.classes_)\n",
    "disp.plot()\n",
    "plt.title('Decision Tree w/SMOTE')"
   ]
  },
  {
   "cell_type": "markdown",
   "id": "7a04c7fe",
   "metadata": {},
   "source": [
    "# Conclusion\n",
    "\n",
    "KNN with SMOTE performed consierably better whilst it did not appear to have a significant impact on the decision tree algorithm. To answer the business question,\n",
    "the decision tree model with smote has a comparable metric to KNN with SMOTE whilst having a much faster prediction time. Therefore due to the scale of the amount of sent/received text messages I would recommend the Decision Tree Model with SMOTE to improve the SPAM problem."
   ]
  },
  {
   "cell_type": "markdown",
   "id": "afca9185",
   "metadata": {},
   "source": []
  }
 ],
 "metadata": {
  "kernelspec": {
   "display_name": "Python 3 (ipykernel)",
   "language": "python",
   "name": "python3"
  },
  "language_info": {
   "codemirror_mode": {
    "name": "ipython",
    "version": 3
   },
   "file_extension": ".py",
   "mimetype": "text/x-python",
   "name": "python",
   "nbconvert_exporter": "python",
   "pygments_lexer": "ipython3",
   "version": "3.9.6"
  }
 },
 "nbformat": 4,
 "nbformat_minor": 5
}
